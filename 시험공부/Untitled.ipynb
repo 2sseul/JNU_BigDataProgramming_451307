{
 "cells": [
  {
   "cell_type": "code",
   "execution_count": 1,
   "id": "badacb47-4d30-4b76-becb-fe180082ed71",
   "metadata": {},
   "outputs": [
    {
     "name": "stdout",
     "output_type": "stream",
     "text": [
      "  species     island  bill_length_mm  bill_depth_mm  flipper_length_mm  \\\n",
      "0  Adelie  Torgersen            39.1           18.7              181.0   \n",
      "1  Adelie  Torgersen            39.5           17.4              186.0   \n",
      "2  Adelie  Torgersen            40.3           18.0              195.0   \n",
      "3  Adelie  Torgersen             NaN            NaN                NaN   \n",
      "4  Adelie  Torgersen            36.7           19.3              193.0   \n",
      "\n",
      "   body_mass_g     sex  \n",
      "0       3750.0    Male  \n",
      "1       3800.0  Female  \n",
      "2       3250.0  Female  \n",
      "3          NaN     NaN  \n",
      "4       3450.0  Female  \n"
     ]
    }
   ],
   "source": [
    "import seaborn as sns\n",
    "import matplotlib.pyplot as mlp\n",
    "\n",
    "penguins = sns.load_dataset(\"penguins\")\n",
    "\n",
    "print(penguins.head())"
   ]
  },
  {
   "cell_type": "code",
   "execution_count": 12,
   "id": "2630183f-cb39-4425-9cd4-e3399fb507b9",
   "metadata": {},
   "outputs": [
    {
     "name": "stdout",
     "output_type": "stream",
     "text": [
      "           species  island  bill_length_mm  bill_depth_mm  flipper_length_mm  \\\n",
      "species                                                                        \n",
      "Adelie           0       0               1              1                  1   \n",
      "Chinstrap        0       0               0              0                  0   \n",
      "Gentoo           0       0               1              1                  1   \n",
      "\n",
      "           body_mass_g  sex  \n",
      "species                      \n",
      "Adelie               1    6  \n",
      "Chinstrap            0    0  \n",
      "Gentoo               1    5  \n"
     ]
    }
   ],
   "source": [
    "null_counts = penguins.isnull().groupby(penguins[\"species\"]).sum()\n",
    "\n",
    "print(null_counts)"
   ]
  },
  {
   "cell_type": "code",
   "execution_count": 8,
   "id": "e8b9f6b3-206f-443c-b2ab-997954a7ee15",
   "metadata": {},
   "outputs": [
    {
     "name": "stdout",
     "output_type": "stream",
     "text": [
      "    species     island  bill_length_mm  bill_depth_mm  flipper_length_mm  \\\n",
      "0    Adelie  Torgersen            39.1           18.7              181.0   \n",
      "1    Adelie  Torgersen            39.5           17.4              186.0   \n",
      "2    Adelie  Torgersen            40.3           18.0              195.0   \n",
      "4    Adelie  Torgersen            36.7           19.3              193.0   \n",
      "5    Adelie  Torgersen            39.3           20.6              190.0   \n",
      "..      ...        ...             ...            ...                ...   \n",
      "338  Gentoo     Biscoe            47.2           13.7              214.0   \n",
      "340  Gentoo     Biscoe            46.8           14.3              215.0   \n",
      "341  Gentoo     Biscoe            50.4           15.7              222.0   \n",
      "342  Gentoo     Biscoe            45.2           14.8              212.0   \n",
      "343  Gentoo     Biscoe            49.9           16.1              213.0   \n",
      "\n",
      "     body_mass_g     sex  \n",
      "0         3750.0    Male  \n",
      "1         3800.0  Female  \n",
      "2         3250.0  Female  \n",
      "4         3450.0  Female  \n",
      "5         3650.0    Male  \n",
      "..           ...     ...  \n",
      "338       4925.0  Female  \n",
      "340       4850.0  Female  \n",
      "341       5750.0    Male  \n",
      "342       5200.0  Female  \n",
      "343       5400.0    Male  \n",
      "\n",
      "[333 rows x 7 columns]\n",
      "(333, 7)\n"
     ]
    }
   ],
   "source": [
    "clean_penguins_data = penguins.dropna()\n",
    "print(clean_penguins_data)\n",
    "\n",
    "# 데이터프레임 크기 출력 (행, 열)\n",
    "print(clean_penguins_data.shape)"
   ]
  },
  {
   "cell_type": "code",
   "execution_count": null,
   "id": "8bea9eb7-785e-4d1e-8bd6-2a61f429dd5a",
   "metadata": {},
   "outputs": [],
   "source": []
  }
 ],
 "metadata": {
  "kernelspec": {
   "display_name": "Python 3 (ipykernel)",
   "language": "python",
   "name": "python3"
  },
  "language_info": {
   "codemirror_mode": {
    "name": "ipython",
    "version": 3
   },
   "file_extension": ".py",
   "mimetype": "text/x-python",
   "name": "python",
   "nbconvert_exporter": "python",
   "pygments_lexer": "ipython3",
   "version": "3.8.19"
  }
 },
 "nbformat": 4,
 "nbformat_minor": 5
}
