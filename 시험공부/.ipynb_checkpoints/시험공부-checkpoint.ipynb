{
 "cells": [
  {
   "cell_type": "code",
   "execution_count": 6,
   "id": "79ab9ee4-957d-4990-bca4-deeaa78878e1",
   "metadata": {},
   "outputs": [],
   "source": [
    "import numpy as np"
   ]
  },
  {
   "cell_type": "code",
   "execution_count": 9,
   "id": "8a8837fd-9cc6-4651-a19c-38980fe35d0b",
   "metadata": {},
   "outputs": [],
   "source": [
    "a = list(range(1,6,1))"
   ]
  },
  {
   "cell_type": "code",
   "execution_count": 10,
   "id": "a4e6231e-b559-4076-b0be-e6a14880b81b",
   "metadata": {},
   "outputs": [
    {
     "name": "stdout",
     "output_type": "stream",
     "text": [
      "[1, 2, 3, 4, 5]\n"
     ]
    }
   ],
   "source": [
    "print(a)"
   ]
  },
  {
   "cell_type": "code",
   "execution_count": 11,
   "id": "d5419415-7c4a-4736-bdb0-e7e73fe172ae",
   "metadata": {},
   "outputs": [],
   "source": [
    "np_a = np.array(a)"
   ]
  },
  {
   "cell_type": "code",
   "execution_count": 12,
   "id": "4c425218-22bd-4fdb-b3df-c8e88e98a801",
   "metadata": {},
   "outputs": [
    {
     "name": "stdout",
     "output_type": "stream",
     "text": [
      "[1 2 3 4 5]\n"
     ]
    }
   ],
   "source": [
    "print(np_a)"
   ]
  },
  {
   "cell_type": "code",
   "execution_count": 13,
   "id": "df881d0d-2890-4ed3-8d4f-1d371e799007",
   "metadata": {},
   "outputs": [],
   "source": [
    "np_b = np_a * 10"
   ]
  },
  {
   "cell_type": "code",
   "execution_count": 14,
   "id": "1b5d9976-beae-4d1d-b5e7-64d06228e954",
   "metadata": {},
   "outputs": [],
   "source": [
    "np_c = np_b + 5"
   ]
  },
  {
   "cell_type": "code",
   "execution_count": 15,
   "id": "8da314b6-13fe-466b-8356-bb6318861aa6",
   "metadata": {},
   "outputs": [],
   "source": [
    "np_d = np_b + np_c"
   ]
  },
  {
   "cell_type": "markdown",
   "id": "f0604305-71ea-4f3f-b515-bbe1aac8bf5c",
   "metadata": {},
   "source": [
    "## 도전문제 3.3"
   ]
  },
  {
   "cell_type": "code",
   "execution_count": 17,
   "id": "b31b9559-7ee8-4e38-baa2-9bc5d31f9d15",
   "metadata": {},
   "outputs": [
    {
     "data": {
      "text/plain": [
       "array([69, 79, 90, 92, 69, 77])"
      ]
     },
     "execution_count": 17,
     "metadata": {},
     "output_type": "execute_result"
    }
   ],
   "source": [
    "scores = [69, 34, 55, 79, 90, 57, 92, 59, 69, 77]\n",
    "\n",
    "np_scores = np.array(scores)\n",
    "\n",
    "if_scores = np_scores >= 60\n",
    "np_scores[if_scores]"
   ]
  },
  {
   "cell_type": "code",
   "execution_count": 18,
   "id": "33c0923b-98a4-4707-8687-347c7904f97e",
   "metadata": {},
   "outputs": [],
   "source": [
    "arr = [[1, 2, 3], [4, 5, 6], [7, 8, 9]]"
   ]
  },
  {
   "cell_type": "code",
   "execution_count": 20,
   "id": "65f6f191-a8ba-4bd5-9205-fa21256af3ad",
   "metadata": {},
   "outputs": [
    {
     "data": {
      "text/plain": [
       "3"
      ]
     },
     "execution_count": 20,
     "metadata": {},
     "output_type": "execute_result"
    }
   ],
   "source": [
    "np_arr = np.array(arr)\n",
    "\n",
    "np_arr[0, 2]"
   ]
  },
  {
   "cell_type": "markdown",
   "id": "b9f79fa3-f5de-495b-8453-1a3c483f763e",
   "metadata": {},
   "source": [
    "## 도전문제 3.4"
   ]
  },
  {
   "cell_type": "code",
   "execution_count": 23,
   "id": "d6ab5c6d-7f32-42c5-af5e-e34ff0f52590",
   "metadata": {},
   "outputs": [
    {
     "data": {
      "text/plain": [
       "5"
      ]
     },
     "execution_count": 23,
     "metadata": {},
     "output_type": "execute_result"
    }
   ],
   "source": [
    "np_a = np.array([[1,2,3,4],[5,6,7,8],[9,10,11,12],[13,14,15,16]])\n",
    "\n",
    "np_a[1,0]"
   ]
  },
  {
   "cell_type": "code",
   "execution_count": 24,
   "id": "92a84aab-1ea2-42ce-91f5-8f798dc4eefd",
   "metadata": {},
   "outputs": [
    {
     "data": {
      "text/plain": [
       "15"
      ]
     },
     "execution_count": 24,
     "metadata": {},
     "output_type": "execute_result"
    }
   ],
   "source": [
    "np_a[3,2]"
   ]
  },
  {
   "cell_type": "code",
   "execution_count": 28,
   "id": "46bef59e-440e-49a6-862d-0636dddc4b5b",
   "metadata": {},
   "outputs": [
    {
     "name": "stdout",
     "output_type": "stream",
     "text": [
      "['f' 'f']\n",
      "2\n"
     ]
    }
   ],
   "source": [
    "x = np.array( [['a', 'f', 'c', 'd', 'c'], ['c', 'f', 'g', 'h', 'd']])\n",
    "\n",
    "result = x[x == 'f']\n",
    "print(result)\n",
    "print(result.size)"
   ]
  },
  {
   "cell_type": "code",
   "execution_count": null,
   "id": "9c2f3876-8c08-416b-ada7-8f09f09ec1e6",
   "metadata": {},
   "outputs": [],
   "source": []
  }
 ],
 "metadata": {
  "kernelspec": {
   "display_name": "Python 3 (ipykernel)",
   "language": "python",
   "name": "python3"
  },
  "language_info": {
   "codemirror_mode": {
    "name": "ipython",
    "version": 3
   },
   "file_extension": ".py",
   "mimetype": "text/x-python",
   "name": "python",
   "nbconvert_exporter": "python",
   "pygments_lexer": "ipython3",
   "version": "3.8.19"
  }
 },
 "nbformat": 4,
 "nbformat_minor": 5
}
