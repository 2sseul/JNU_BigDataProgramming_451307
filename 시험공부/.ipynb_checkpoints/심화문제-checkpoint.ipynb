{
 "cells": [
  {
   "cell_type": "code",
   "execution_count": 10,
   "id": "7750303d-f909-42e2-b62d-96b56a1fa793",
   "metadata": {},
   "outputs": [
    {
     "name": "stdout",
     "output_type": "stream",
     "text": [
      "[ 1  2  3  4  5  6  7  8  9 10 11 12 13 14 15 16 17 18 19 20]\n",
      "[20 19 18 17 16 15 14 13 12 11 10  9  8  7  6  5  4  3  2  1]\n",
      "num_arr 내의 모든 원소의 합 : 210\n",
      "[[ 1  2  3  4]\n",
      " [ 5  6  7  8]\n",
      " [ 9 10 11 12]\n",
      " [13 14 15 16]\n",
      " [17 18 19 20]]\n"
     ]
    }
   ],
   "source": [
    "import numpy as np\n",
    "\n",
    "num_arr = np.arange(1,21)\n",
    "print(num_arr)\n",
    "print(np.flip(num_arr))\n",
    "print(f'num_arr 내의 모든 원소의 합 : {np.sum(num_arr)}')\n",
    "print(num_arr.reshape(5,4))"
   ]
  },
  {
   "cell_type": "code",
   "execution_count": 28,
   "id": "cc870540-3a1c-44bc-ba06-802dfb450b6d",
   "metadata": {},
   "outputs": [
    {
     "name": "stdout",
     "output_type": "stream",
     "text": [
      "[[ 0  1  2  3  4]\n",
      " [ 5  6  7  8  9]\n",
      " [10 11 12 13 14]\n",
      " [15 16 17 18 19]\n",
      " [20 21 22 23 24]]\n",
      "0\n",
      "24\n",
      "[[0 1 2 3 4]\n",
      " [5 6 7 8 9]]\n",
      "[[10 11 12 13 14]\n",
      " [15 16 17 18 19]\n",
      " [20 21 22 23 24]]\n",
      "[[ 0  2  4]\n",
      " [ 5  7  9]\n",
      " [10 12 14]\n",
      " [15 17 19]\n",
      " [20 22 24]]\n",
      "[[ 0  2  4]\n",
      " [10 12 14]\n",
      " [20 22 24]]\n",
      "[[0 1]\n",
      " [2 3]\n",
      " [4 5]\n",
      " [6 7]\n",
      " [8 9]]\n"
     ]
    }
   ],
   "source": [
    "n_arr = np.arange(25).reshape(5,5)\n",
    "print(n_arr)\n",
    "\n",
    "print(n_arr[0,0])\n",
    "print(n_arr[4,4])\n",
    "\n",
    "print(n_arr[:2, :])\n",
    "\n",
    "print(n_arr[2:, :])\n",
    "\n",
    "print(n_arr[:, ::2])\n",
    "\n",
    "print(n_arr[::2, ::2])\n",
    "\n",
    "print(n_arr[:2,:].reshape(5,2))"
   ]
  },
  {
   "cell_type": "code",
   "execution_count": 30,
   "id": "3daa8b5b-3fc0-4d41-ba30-65bcb8a678eb",
   "metadata": {},
   "outputs": [
    {
     "name": "stdout",
     "output_type": "stream",
     "text": [
      "[[1. 1. 1. 1. 1. 1.]\n",
      " [1. 1. 1. 1. 1. 1.]\n",
      " [1. 1. 1. 1. 1. 1.]\n",
      " [1. 1. 1. 1. 1. 1.]\n",
      " [1. 1. 1. 1. 1. 1.]\n",
      " [1. 1. 1. 1. 1. 1.]]\n",
      "[[1. 1. 1. 1. 1. 1.]\n",
      " [1. 0. 0. 0. 0. 1.]\n",
      " [1. 0. 0. 0. 0. 1.]\n",
      " [1. 0. 0. 0. 0. 1.]\n",
      " [1. 0. 0. 0. 0. 1.]\n",
      " [1. 1. 1. 1. 1. 1.]]\n"
     ]
    }
   ],
   "source": [
    "arr = np.ones((6,6))\n",
    "print(arr)\n",
    "\n",
    "arr[1:-1,1:-1]=0\n",
    "print(arr)"
   ]
  },
  {
   "cell_type": "code",
   "execution_count": 42,
   "id": "d53bebea-64a9-42e5-8a2e-8266e762d376",
   "metadata": {},
   "outputs": [
    {
     "name": "stdin",
     "output_type": "stream",
     "text": [
      "2 이상의 n을 입력하시오:  11\n"
     ]
    },
    {
     "name": "stdout",
     "output_type": "stream",
     "text": [
      "[[0. 1. 0. 1. 0. 1. 0. 1. 0. 1. 0.]\n",
      " [1. 0. 1. 0. 1. 0. 1. 0. 1. 0. 1.]\n",
      " [0. 1. 0. 1. 0. 1. 0. 1. 0. 1. 0.]\n",
      " [1. 0. 1. 0. 1. 0. 1. 0. 1. 0. 1.]\n",
      " [0. 1. 0. 1. 0. 1. 0. 1. 0. 1. 0.]\n",
      " [1. 0. 1. 0. 1. 0. 1. 0. 1. 0. 1.]\n",
      " [0. 1. 0. 1. 0. 1. 0. 1. 0. 1. 0.]\n",
      " [1. 0. 1. 0. 1. 0. 1. 0. 1. 0. 1.]\n",
      " [0. 1. 0. 1. 0. 1. 0. 1. 0. 1. 0.]\n",
      " [1. 0. 1. 0. 1. 0. 1. 0. 1. 0. 1.]\n",
      " [0. 1. 0. 1. 0. 1. 0. 1. 0. 1. 0.]]\n"
     ]
    }
   ],
   "source": [
    "n = int(input('2 이상의 n을 입력하시오: '))\n",
    "\n",
    "arr = np.zeros((n,n))\n",
    "arr[0::2, 1::2] = 1\n",
    "arr[1::2, 0::2] = 1\n",
    "\n",
    "print(arr)"
   ]
  },
  {
   "cell_type": "code",
   "execution_count": 43,
   "id": "4db47623-6c98-440c-98a2-292844bcaa4d",
   "metadata": {},
   "outputs": [
    {
     "name": "stdout",
     "output_type": "stream",
     "text": [
      "[100 200 300 400 500]\n"
     ]
    }
   ],
   "source": [
    "a = [100, 100, 200, 200, 300, 300, 400, 400, 500]\n",
    "print(np.unique(a))"
   ]
  },
  {
   "cell_type": "code",
   "execution_count": 48,
   "id": "10ef1af1-4dd2-47c0-8a43-dea6d99a6fab",
   "metadata": {},
   "outputs": [
    {
     "name": "stdout",
     "output_type": "stream",
     "text": [
      "[ 1  2  3  4  5  6  7  8  9 10]\n",
      "5.5\n",
      "8.25\n",
      "2.8722813232690143\n"
     ]
    }
   ],
   "source": [
    "arr = np.arange(1,11)\n",
    "print(arr)\n",
    "print(np.mean(arr))\n",
    "print(np.std(arr))\n",
    "print(np.var(arr))"
   ]
  },
  {
   "cell_type": "code",
   "execution_count": 52,
   "id": "75600c82-4ad5-4e78-84e9-8d50fd8c7cba",
   "metadata": {},
   "outputs": [
    {
     "name": "stdout",
     "output_type": "stream",
     "text": [
      "[7 9 6 4 6 9 3 1 5 4 1 7 9 0 1 8 2 9 8 6]\n",
      "5.25\n",
      "2.9979159427842537\n",
      "8.9875\n"
     ]
    }
   ],
   "source": [
    "a = np.random.randint(0,10,20)\n",
    "print(a)\n",
    "print(np.mean(a))\n",
    "print(np.std(a))\n",
    "print(np.var(a))"
   ]
  },
  {
   "cell_type": "code",
   "execution_count": 55,
   "id": "a2922f06-af46-46db-ab8d-b06b0d1a4062",
   "metadata": {},
   "outputs": [
    {
     "name": "stdout",
     "output_type": "stream",
     "text": [
      "배열: [7 7 7 2 3 2 8 3 3 5 5 0 0 3 2 5 6 2 8 2 2 0 8 2 4 5 5 9 0 6]\n",
      "최빈값은 2이며, 7번 나타남\n",
      "두 번째 최빈값은 5이며, 5번 나타남\n"
     ]
    }
   ],
   "source": [
    "import numpy as np\n",
    "\n",
    "a = np.random.randint(0, 10, 30)\n",
    "print(\"배열:\", a)\n",
    "\n",
    "counts = np.bincount(a)\n",
    "sorted_indices = np.argsort(counts)[::-1]  # 빈도 내림차순 정렬\n",
    "\n",
    "# 최빈값과 두 번째 최빈값\n",
    "mode1 = sorted_indices[0]\n",
    "freq1 = counts[mode1]\n",
    "\n",
    "mode2 = sorted_indices[1]\n",
    "freq2 = counts[mode2]\n",
    "\n",
    "print(f'최빈값은 {mode1}이며, {freq1}번 나타남')\n",
    "print(f'두 번째 최빈값은 {mode2}이며, {freq2}번 나타남')"
   ]
  },
  {
   "cell_type": "code",
   "execution_count": 58,
   "id": "e25926ff-e815-481e-a72a-cccabd59fc3a",
   "metadata": {},
   "outputs": [
    {
     "name": "stdout",
     "output_type": "stream",
     "text": [
      "[0 0 0 0 2 2 2 2 2 2 2 3 3 3 3 4 5 5 5 5 5 6 6 7 7 7 8 8 8 9]\n"
     ]
    }
   ],
   "source": [
    "a = np.sort(a)\n",
    "print(a)"
   ]
  },
  {
   "cell_type": "code",
   "execution_count": 63,
   "id": "92679948-c363-41f6-a584-215e174c4782",
   "metadata": {},
   "outputs": [
    {
     "name": "stdout",
     "output_type": "stream",
     "text": [
      "배열: [8 6 5 2 8 9 7 9 3 8 5 7 4 8 9 0 6 2 3 0 8 8 1 8 8 6 5 7 1 7]\n",
      "정수: 빈도\n",
      "0  :  2\n",
      "1  :  2\n",
      "2  :  2\n",
      "3  :  2\n",
      "4  :  1\n",
      "5  :  3\n",
      "6  :  3\n",
      "7  :  4\n",
      "8  :  8\n",
      "9  :  3\n"
     ]
    }
   ],
   "source": [
    "import numpy as np\n",
    "\n",
    "a = np.random.randint(0, 10, 30)\n",
    "print(\"배열:\", a)\n",
    "\n",
    "counts = np.bincount(a, minlength=10)  # 0~9까지 모두 포함되도록\n",
    "\n",
    "print(f'정수: 빈도')\n",
    "for i in range(10):\n",
    "    print(f'{i}  :  {counts[i]}')"
   ]
  },
  {
   "cell_type": "code",
   "execution_count": 70,
   "id": "8b27fc24-bf4f-4436-b88d-7c307eb5f104",
   "metadata": {},
   "outputs": [
    {
     "name": "stdout",
     "output_type": "stream",
     "text": [
      "[[[0.54340494 0.27836939 0.42451759]\n",
      "  [0.84477613 0.00471886 0.12156912]\n",
      "  [0.67074908 0.82585276 0.13670659]]\n",
      "\n",
      " [[0.57509333 0.89132195 0.20920212]\n",
      "  [0.18532822 0.10837689 0.21969749]\n",
      "  [0.97862378 0.81168315 0.17194101]]\n",
      "\n",
      " [[0.81622475 0.27407375 0.43170418]\n",
      "  [0.94002982 0.81764938 0.33611195]\n",
      "  [0.17541045 0.37283205 0.00568851]]]\n",
      "0.9786237847073697\n",
      "15\n"
     ]
    }
   ],
   "source": [
    "import numpy as np\n",
    "\n",
    "np.random.seed(100)     # 시드 설정\n",
    "a = np.random.rand(27)    # 0 이상 1 미만의 실수 9개 생성\n",
    "print(a.reshape(3,3,3))\n",
    "\n",
    "max = np.max(a)\n",
    "print(max)\n",
    "print(np.argmax(a))"
   ]
  },
  {
   "cell_type": "code",
   "execution_count": 75,
   "id": "941a4c24-706c-4353-af4e-6748c9298b1d",
   "metadata": {},
   "outputs": [
    {
     "name": "stdout",
     "output_type": "stream",
     "text": [
      "[[ 1  2  3  4  5]\n",
      " [ 6  7  8  9 10]\n",
      " [11 12 13 14 15]\n",
      " [16 17 18 19 20]\n",
      " [21 22 23 24 25]]\n",
      "[ 15  40  65  90 115]\n",
      "[55 60 65 70 75]\n"
     ]
    }
   ],
   "source": [
    "a = np.arange(1,26)\n",
    "a = a.reshape(5,5)\n",
    "print(a)\n",
    "\n",
    "print(a.sum(axis=1)) # 행 방향 성분의 합\n",
    "print(a.sum(axis=0)) # 열 방향 성분의 합"
   ]
  },
  {
   "cell_type": "code",
   "execution_count": 78,
   "id": "9a70c0a4-580e-4016-9521-d13337f4888f",
   "metadata": {},
   "outputs": [
    {
     "name": "stdout",
     "output_type": "stream",
     "text": [
      "[[[ 0  1]\n",
      "  [ 2  3]\n",
      "  [ 4  5]\n",
      "  [ 6  7]]\n",
      "\n",
      " [[ 8  9]\n",
      "  [10 11]\n",
      "  [12 13]\n",
      "  [14 15]]\n",
      "\n",
      " [[16 17]\n",
      "  [18 19]\n",
      "  [20 21]\n",
      "  [22 23]]\n",
      "\n",
      " [[24 25]\n",
      "  [26 27]\n",
      "  [28 29]\n",
      "  [30 31]]]\n",
      "9\n",
      "19\n"
     ]
    }
   ],
   "source": [
    "a = np.arange(0, 32).reshape(4,4,2)\n",
    "print(a)\n",
    "\n",
    "#평탄화\n",
    "a = a.flatten()\n",
    "print(a[9])\n",
    "print(a[19])"
   ]
  },
  {
   "cell_type": "code",
   "execution_count": 84,
   "id": "ee0aec30-c3f5-411a-b053-6746760a798f",
   "metadata": {},
   "outputs": [
    {
     "name": "stdout",
     "output_type": "stream",
     "text": [
      "상관계수 행렬:\n",
      " [[ 1.          0.99624905  0.91019291 -0.01704068]\n",
      " [ 0.99624905  1.          0.90378146 -0.01305994]\n",
      " [ 0.91019291  0.90378146  1.         -0.01021141]\n",
      " [-0.01704068 -0.01305994 -0.01021141  1.        ]]\n",
      "x1과의 상관계수들: [ 0.99624905  0.91019291 -0.01704068]\n",
      "x1과 가장 상관관계가 높은 리스트는 x2입니다.\n",
      "상관계수: 0.9962\n"
     ]
    }
   ],
   "source": [
    "import numpy as np\n",
    "\n",
    "x1 = [i for i in range(100)]\n",
    "x2 = [i + np.random.randint(1, 10) for i in range(100)]\n",
    "x3 = [i + np.random.randint(1,50) for i in range(100)]\n",
    "x4 = [np.random.randint(1, 100) for i in range(100)]\n",
    "\n",
    "# 상관계수 행렬 생성\n",
    "arr = np.corrcoef([x1, x2, x3, x4])\n",
    "\n",
    "# x1과 나머지(x2~x4)와의 상관계수만 추출\n",
    "x1_corrs = arr[0, 1:]  # x1과 x2~x4와의 상관계수\n",
    "\n",
    "# 가장 상관관계가 높은 인덱스 찾기\n",
    "max_index = np.argmax(x1_corrs) + 1  # +1은 x1은 arr[0]이라 기준이기 때문\n",
    "\n",
    "print(\"상관계수 행렬:\\n\", arr)\n",
    "print(\"x1과의 상관계수들:\", x1_corrs)\n",
    "print(f\"x1과 가장 상관관계가 높은 리스트는 x{max_index+1}입니다.\")\n",
    "print(f\"상관계수: {arr[0, max_index]:.4f}\")\n"
   ]
  },
  {
   "cell_type": "code",
   "execution_count": 3,
   "id": "27a902bd-79f1-43aa-9306-e7b3e8aa56de",
   "metadata": {},
   "outputs": [
    {
     "data": {
      "image/png": "[encoded data removed]",
      "text/plain": [
       "<Figure size 640x480 with 1 Axes>"
      ]
     },
     "metadata": {},
     "output_type": "display_data"
    }
   ],
   "source": [
    "import matplotlib.pyplot as plt\n",
    "\n",
    "Month=[7,8,9,10,11,12]\n",
    "User=[456,492,578,599,670,854]\n",
    "\n",
    "plt.plot(Month, User, color=\"blue\")\n",
    "plt.title(\"Daehan company speeda net new customers\")\n",
    "\n",
    "plt.show()"
   ]
  },
  {
   "cell_type": "code",
   "execution_count": 13,
   "id": "97047c7a-3b04-4eb7-b6de-c779507e486d",
   "metadata": {},
   "outputs": [
    {
     "data": {
      "text/plain": [
       "Text(0.5, 1.0, 'Horizontal Bar Chart')"
      ]
     },
     "execution_count": 13,
     "metadata": {},
     "output_type": "execute_result"
    },
    {
     "data": {
      "image/png": "[encoded data removed]",
      "text/plain": [
       "<Figure size 640x480 with 4 Axes>"
      ]
     },
     "metadata": {},
     "output_type": "display_data"
    }
   ],
   "source": [
    "fig, ax = plt.subplots(1,4)\n",
    "ax[0].bar(Month, User)\n",
    "ax[0].set_title('Bar Chart')\n",
    "\n",
    "ax[1].plot(Month, User)\n",
    "ax[1].set_title('Line Chart')\n",
    "\n",
    "ax[2].scatter(Month, User)\n",
    "ax[2].set_title('Scatter Chart')\n",
    "\n",
    "ax[3].barh(Month, User)\n",
    "ax[3].set_title('Horizontal Bar Chart')"
   ]
  },
  {
   "cell_type": "code",
   "execution_count": null,
   "id": "4e0b36de-f174-407a-b8e6-01e887dce564",
   "metadata": {},
   "outputs": [],
   "source": []
  }
 ],
 "metadata": {
  "kernelspec": {
   "display_name": "Python 3 (ipykernel)",
   "language": "python",
   "name": "python3"
  },
  "language_info": {
   "codemirror_mode": {
    "name": "ipython",
    "version": 3
   },
   "file_extension": ".py",
   "mimetype": "text/x-python",
   "name": "python",
   "nbconvert_exporter": "python",
   "pygments_lexer": "ipython3",
   "version": "3.12.7"
  }
 },
 "nbformat": 4,
 "nbformat_minor": 5
}
