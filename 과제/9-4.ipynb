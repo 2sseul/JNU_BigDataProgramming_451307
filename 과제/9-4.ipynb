{
 "cells": [
  {
   "cell_type": "code",
   "execution_count": 10,
   "id": "79c8274d-2673-4196-8c4e-06da48ddf4ff",
   "metadata": {},
   "outputs": [
    {
     "name": "stdout",
     "output_type": "stream",
     "text": [
      "산지      경남      경북      전남\n",
      "과일                        \n",
      "감      0.0     0.0     0.0\n",
      "사과  3000.0  3000.0  3000.0\n",
      "수박     0.0     0.0     0.0\n"
     ]
    }
   ],
   "source": [
    "import pandas as pd\n",
    "import numpy as np\n",
    "import datetime as dt\n",
    "\n",
    "df = pd.DataFrame({\n",
    "    \"상점\": [\"상점A\", \"상점B\", \"상점B\", \"상점C\"] * 5,\n",
    "    \"과일\": [\"사과\", \"수박\", \"감\", \"감\"] * 5,\n",
    "    \"산지\": [\"경북\", \"경북\", \"경남\", \"경남\", \"전남\"] * 4,\n",
    "    \"가격\": [3000, 2000, 3000, 4500] * 5,\n",
    "    \"출하일\": [dt.datetime(2024, i, 1) for i in range(1,11)] + [dt.datetime(2024,i,15) for i in range(1,11)],\n",
    "})\n",
    "\n",
    "store_a_df = df[df[\"상점\"] == \"상점A\"]\n",
    "\n",
    "pivot = pd.pivot_table(\n",
    "    store_a_df,\n",
    "    values=\"가격\",\n",
    "    index=\"과일\",\n",
    "    columns=\"산지\",\n",
    "    aggfunc=\"mean\"\n",
    ")\n",
    "\n",
    "all_fruits = df[\"과일\"].unique()\n",
    "all_origins = df[\"산지\"].unique()\n",
    "pivot = pivot.reindex(index=sorted(all_fruits), columns=sorted(all_origins), fill_value=0.0)\n",
    "\n",
    "print(pivot)"
   ]
  },
  {
   "cell_type": "code",
   "execution_count": null,
   "id": "46db575b-5618-4934-ab59-6020f1284bda",
   "metadata": {},
   "outputs": [],
   "source": []
  },
  {
   "cell_type": "code",
   "execution_count": null,
   "id": "a34fac9b-7037-4a26-a109-3f2a51c0e931",
   "metadata": {},
   "outputs": [],
   "source": []
  }
 ],
 "metadata": {
  "kernelspec": {
   "display_name": "Python 3 (ipykernel)",
   "language": "python",
   "name": "python3"
  },
  "language_info": {
   "codemirror_mode": {
    "name": "ipython",
    "version": 3
   },
   "file_extension": ".py",
   "mimetype": "text/x-python",
   "name": "python",
   "nbconvert_exporter": "python",
   "pygments_lexer": "ipython3",
   "version": "3.8.19"
  }
 },
 "nbformat": 4,
 "nbformat_minor": 5
}
