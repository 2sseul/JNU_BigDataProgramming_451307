{
 "cells": [
  {
   "cell_type": "markdown",
   "id": "b7ac402a-51c4-41ae-a791-49874af4406d",
   "metadata": {},
   "source": [
    "### 컴퓨터공학과 2025208017 김이슬"
   ]
  },
  {
   "cell_type": "code",
   "execution_count": 1,
   "id": "ba14a4f6-6c70-4d25-a56d-0fe06a8e64db",
   "metadata": {},
   "outputs": [],
   "source": [
    "import numpy as np"
   ]
  },
  {
   "cell_type": "code",
   "execution_count": 3,
   "id": "ddd832fb-1f87-4da0-bc27-eacbe886f1ad",
   "metadata": {},
   "outputs": [
    {
     "name": "stdout",
     "output_type": "stream",
     "text": [
      "이번 주의 당첨 로또번호 + 보너스\n",
      "[25 43 11  9 13 19]+[44]\n"
     ]
    }
   ],
   "source": [
    "x = np.arange(1, 46)\n",
    "np.random.shuffle(x)\n",
    "print(f'이번 주의 당첨 로또번호 + 보너스')\n",
    "print(f'{x[:6]}+[{x[6]}]')"
   ]
  }
 ],
 "metadata": {
  "kernelspec": {
   "display_name": "Python 3 (ipykernel)",
   "language": "python",
   "name": "python3"
  },
  "language_info": {
   "codemirror_mode": {
    "name": "ipython",
    "version": 3
   },
   "file_extension": ".py",
   "mimetype": "text/x-python",
   "name": "python",
   "nbconvert_exporter": "python",
   "pygments_lexer": "ipython3",
   "version": "3.8.19"
  }
 },
 "nbformat": 4,
 "nbformat_minor": 5
}
