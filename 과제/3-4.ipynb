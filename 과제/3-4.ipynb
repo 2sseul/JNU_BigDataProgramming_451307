{
 "cells": [
  {
   "cell_type": "markdown",
   "id": "3808d202-c88b-4ca9-8ce6-6a2df729c021",
   "metadata": {},
   "source": [
    "## 2025208017 컴퓨터공학과 김이슬"
   ]
  },
  {
   "cell_type": "code",
   "execution_count": 1,
   "id": "e759f1ff-8afe-4917-9402-8144c6bb0c92",
   "metadata": {},
   "outputs": [],
   "source": [
    "import numpy as np"
   ]
  },
  {
   "cell_type": "code",
   "execution_count": 2,
   "id": "327ea03b-c0d3-406e-86a0-882b17b5de59",
   "metadata": {},
   "outputs": [
    {
     "name": "stdout",
     "output_type": "stream",
     "text": [
      "[[1 0 2 3]\n",
      " [4 0 5 6]\n",
      " [7 0 8 9]]\n"
     ]
    }
   ],
   "source": [
    "a = np.array([[1,2,3],[4,5,6],[7,8,9]])\n",
    "\n",
    "a = np.insert(a, 1, [0,0,0], axis=1)\n",
    "print(a)"
   ]
  },
  {
   "cell_type": "code",
   "execution_count": 3,
   "id": "924c03d2-bb47-44f6-bb8c-c64c56bed806",
   "metadata": {},
   "outputs": [
    {
     "name": "stdout",
     "output_type": "stream",
     "text": [
      "[[ 1  0  2  3]\n",
      " [ 4  0  5  6]\n",
      " [ 7  0  8  9]\n",
      " [10 11 12 13]]\n"
     ]
    }
   ],
   "source": [
    "end_row = [10, 11, 12, 13]\n",
    "a = np.insert(a, a.shape[0], end_row, axis=0)\n",
    "print(a)"
   ]
  },
  {
   "cell_type": "code",
   "execution_count": 4,
   "id": "e91c8753-645d-4776-ac61-c14ef21ee8fb",
   "metadata": {},
   "outputs": [
    {
     "name": "stdout",
     "output_type": "stream",
     "text": [
      "[[ 1  0  2  3]\n",
      " [ 4  0  5  6]\n",
      " [ 7  0  8  9]\n",
      " [10 11 12 13]\n",
      " [-3 -2 -1  0]]\n"
     ]
    }
   ],
   "source": [
    "first_row = [-3, -2, -1, 0]\n",
    "a = np.insert(a, a.shape[-1], first_row, axis=0)\n",
    "print(a)"
   ]
  }
 ],
 "metadata": {
  "kernelspec": {
   "display_name": "Python 3 (ipykernel)",
   "language": "python",
   "name": "python3"
  },
  "language_info": {
   "codemirror_mode": {
    "name": "ipython",
    "version": 3
   },
   "file_extension": ".py",
   "mimetype": "text/x-python",
   "name": "python",
   "nbconvert_exporter": "python",
   "pygments_lexer": "ipython3",
   "version": "3.8.19"
  }
 },
 "nbformat": 4,
 "nbformat_minor": 5
}
