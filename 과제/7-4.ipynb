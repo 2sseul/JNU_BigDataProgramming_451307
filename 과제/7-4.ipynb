{
 "cells": [
  {
   "cell_type": "markdown",
   "id": "458b1140-f1b3-45fd-a110-e73ea61bff44",
   "metadata": {},
   "source": [
    "## 컴퓨터공학과 2025208017 김이슬"
   ]
  },
  {
   "cell_type": "code",
   "execution_count": 1,
   "id": "51886d5a-98ff-4bb9-9dbc-755819d2cd6e",
   "metadata": {},
   "outputs": [
    {
     "name": "stdout",
     "output_type": "stream",
     "text": [
      "(1) sepal_length가 7.0 이상인 데이터\n",
      "     sepal_length  sepal_width  petal_length  petal_width     species\n",
      "50            7.0          3.2           4.7          1.4  versicolor\n",
      "102           7.1          3.0           5.9          2.1   virginica\n",
      "105           7.6          3.0           6.6          2.1   virginica\n",
      "107           7.3          2.9           6.3          1.8   virginica\n",
      "109           7.2          3.6           6.1          2.5   virginica\n",
      "117           7.7          3.8           6.7          2.2   virginica\n",
      "118           7.7          2.6           6.9          2.3   virginica\n",
      "122           7.7          2.8           6.7          2.0   virginica\n",
      "125           7.2          3.2           6.0          1.8   virginica\n",
      "129           7.2          3.0           5.8          1.6   virginica\n",
      "130           7.4          2.8           6.1          1.9   virginica\n",
      "131           7.9          3.8           6.4          2.0   virginica\n",
      "135           7.7          3.0           6.1          2.3   virginica\n",
      "\n",
      "(2) species가 'setosa'이고 petal_width가 0.2 이상인 데이터 (내림차순 정렬)\n",
      "    sepal_length  sepal_width  petal_length  petal_width species\n",
      "43           5.0          3.5           1.6          0.6  setosa\n",
      "23           5.1          3.3           1.7          0.5  setosa\n",
      "16           5.4          3.9           1.3          0.4  setosa\n",
      "21           5.1          3.7           1.5          0.4  setosa\n",
      "26           5.0          3.4           1.6          0.4  setosa\n",
      "5            5.4          3.9           1.7          0.4  setosa\n",
      "44           5.1          3.8           1.9          0.4  setosa\n",
      "15           5.7          4.4           1.5          0.4  setosa\n",
      "31           5.4          3.4           1.5          0.4  setosa\n",
      "19           5.1          3.8           1.5          0.3  setosa\n",
      "40           5.0          3.5           1.3          0.3  setosa\n",
      "6            4.6          3.4           1.4          0.3  setosa\n",
      "45           4.8          3.0           1.4          0.3  setosa\n",
      "41           4.5          2.3           1.3          0.3  setosa\n",
      "17           5.1          3.5           1.4          0.3  setosa\n",
      "18           5.7          3.8           1.7          0.3  setosa\n",
      "36           5.5          3.5           1.3          0.2  setosa\n",
      "35           5.0          3.2           1.2          0.2  setosa\n",
      "34           4.9          3.1           1.5          0.2  setosa\n",
      "38           4.4          3.0           1.3          0.2  setosa\n",
      "0            5.1          3.5           1.4          0.2  setosa\n",
      "39           5.1          3.4           1.5          0.2  setosa\n",
      "42           4.4          3.2           1.3          0.2  setosa\n",
      "46           5.1          3.8           1.6          0.2  setosa\n",
      "47           4.6          3.2           1.4          0.2  setosa\n",
      "48           5.3          3.7           1.5          0.2  setosa\n",
      "33           5.5          4.2           1.4          0.2  setosa\n",
      "25           5.0          3.0           1.6          0.2  setosa\n",
      "30           4.8          3.1           1.6          0.2  setosa\n",
      "11           4.8          3.4           1.6          0.2  setosa\n",
      "2            4.7          3.2           1.3          0.2  setosa\n",
      "3            4.6          3.1           1.5          0.2  setosa\n",
      "4            5.0          3.6           1.4          0.2  setosa\n",
      "7            5.0          3.4           1.5          0.2  setosa\n",
      "8            4.4          2.9           1.4          0.2  setosa\n",
      "10           5.4          3.7           1.5          0.2  setosa\n",
      "14           5.8          4.0           1.2          0.2  setosa\n",
      "29           4.7          3.2           1.6          0.2  setosa\n",
      "20           5.4          3.4           1.7          0.2  setosa\n",
      "22           4.6          3.6           1.0          0.2  setosa\n",
      "24           4.8          3.4           1.9          0.2  setosa\n",
      "1            4.9          3.0           1.4          0.2  setosa\n",
      "27           5.2          3.5           1.5          0.2  setosa\n",
      "28           5.2          3.4           1.4          0.2  setosa\n",
      "49           5.0          3.3           1.4          0.2  setosa\n"
     ]
    }
   ],
   "source": [
    "import seaborn as sns\n",
    "import pandas as pd\n",
    "\n",
    "# iris 데이터셋 불러오기\n",
    "df = sns.load_dataset('iris')\n",
    "\n",
    "# (1) sepal_length가 7.0 이상인 데이터만 선택\n",
    "print(\"(1) sepal_length가 7.0 이상인 데이터\")\n",
    "filtered_df1 = df[df['sepal_length'] >= 7.0]\n",
    "print(filtered_df1)\n",
    "\n",
    "# (2) species가 \"setosa\"이고, petal_width가 0.2 이상인 데이터 (내림차순 정렬)\n",
    "print(\"\\n(2) species가 'setosa'이고 petal_width가 0.2 이상인 데이터 (내림차순 정렬)\")\n",
    "filtered_df2 = df[(df['species'] == 'setosa') & (df['petal_width'] >= 0.2)]\n",
    "sorted_df2 = filtered_df2.sort_values(by='petal_width', ascending=False)\n",
    "print(sorted_df2)\n"
   ]
  },
  {
   "cell_type": "code",
   "execution_count": null,
   "id": "1e7455a2-9b51-4952-b2bb-e7dcadcb8e47",
   "metadata": {},
   "outputs": [],
   "source": []
  }
 ],
 "metadata": {
  "kernelspec": {
   "display_name": "Python 3 (ipykernel)",
   "language": "python",
   "name": "python3"
  },
  "language_info": {
   "codemirror_mode": {
    "name": "ipython",
    "version": 3
   },
   "file_extension": ".py",
   "mimetype": "text/x-python",
   "name": "python",
   "nbconvert_exporter": "python",
   "pygments_lexer": "ipython3",
   "version": "3.8.19"
  }
 },
 "nbformat": 4,
 "nbformat_minor": 5
}
