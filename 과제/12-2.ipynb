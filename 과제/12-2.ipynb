{
 "cells": [
  {
   "cell_type": "markdown",
   "id": "e4752fb7-7c94-4959-98b6-85372e82832a",
   "metadata": {},
   "source": [
    "# 컴퓨터공학과 2025208017 김이슬"
   ]
  },
  {
   "cell_type": "code",
   "execution_count": 2,
   "id": "0be13ca7-486a-4e05-927a-545a1bfac8ec",
   "metadata": {},
   "outputs": [
    {
     "name": "stdout",
     "output_type": "stream",
     "text": [
      "모델 A의 평균 절대 오차: 0.4199999999999998\n",
      "모델 A의 평균 제곱 오차: 0.4739999999999999\n",
      "모델 B의 평균 절대 오차: 0.8400000000000002\n",
      "모델 B의 평균 제곱 오차: 0.8560000000000002\n"
     ]
    }
   ],
   "source": [
    "import numpy as np\n",
    "\n",
    "y_true = np.array([2, 4, 6, 8, 10])\n",
    "\n",
    "y_pred_a = np.array([2.1, 4.3, 4.5, 7.9, 10.1])\n",
    "y_pred_b = np.array([2.5, 4.4, 4.5, 8.9, 10.9])\n",
    "\n",
    "mae_a = np.mean(np.abs(y_true - y_pred_a))\n",
    "mae_b = np.mean(np.abs(y_true - y_pred_b))\n",
    "\n",
    "mse_a = np.mean((y_true - y_pred_a) ** 2)\n",
    "mse_b = np.mean((y_true - y_pred_b) ** 2)\n",
    "\n",
    "print(\"모델 A의 평균 절대 오차:\", mae_a)\n",
    "print(\"모델 A의 평균 제곱 오차:\", mse_a)\n",
    "print(\"모델 B의 평균 절대 오차:\", mae_b)\n",
    "print(\"모델 B의 평균 제곱 오차:\", mse_b)"
   ]
  },
  {
   "cell_type": "code",
   "execution_count": null,
   "id": "e7980b56-9cfc-4322-a394-5423c8b529b9",
   "metadata": {},
   "outputs": [],
   "source": []
  }
 ],
 "metadata": {
  "kernelspec": {
   "display_name": "Python 3 (ipykernel)",
   "language": "python",
   "name": "python3"
  },
  "language_info": {
   "codemirror_mode": {
    "name": "ipython",
    "version": 3
   },
   "file_extension": ".py",
   "mimetype": "text/x-python",
   "name": "python",
   "nbconvert_exporter": "python",
   "pygments_lexer": "ipython3",
   "version": "3.8.19"
  }
 },
 "nbformat": 4,
 "nbformat_minor": 5
}
