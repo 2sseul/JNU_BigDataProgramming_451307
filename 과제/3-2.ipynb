{
 "cells": [
  {
   "cell_type": "markdown",
   "id": "20da3fa1-aeaf-4505-911b-6a2385b02c42",
   "metadata": {},
   "source": [
    "## 2025208017 컴퓨터공학과 김이슬"
   ]
  },
  {
   "cell_type": "code",
   "execution_count": 1,
   "id": "b61331f9-21a4-4adc-aa9c-6b6092571c9e",
   "metadata": {},
   "outputs": [],
   "source": [
    "import numpy as np"
   ]
  },
  {
   "cell_type": "code",
   "execution_count": 2,
   "id": "f2db4bad-9deb-4eb6-b865-2cfb35fcd1b4",
   "metadata": {},
   "outputs": [
    {
     "name": "stdout",
     "output_type": "stream",
     "text": [
      "7과 5의 공배수만 추출: [ 35  70 105 140 175]\n",
      "7과 5의 공배수 중 첫 번째 값: 35\n",
      "7과 5의 공배수 중 마지막 값: 175\n"
     ]
    }
   ],
   "source": [
    "a = np.array(range(1, 201))\n",
    "aa = a[a % 35 == 0]\n",
    "\n",
    "print(f'7과 5의 공배수만 추출: {aa}')\n",
    "print(f'7과 5의 공배수 중 첫 번째 값: {aa[0]}')\n",
    "print(f'7과 5의 공배수 중 마지막 값: {aa[-1]}')"
   ]
  }
 ],
 "metadata": {
  "kernelspec": {
   "display_name": "Python 3 (ipykernel)",
   "language": "python",
   "name": "python3"
  },
  "language_info": {
   "codemirror_mode": {
    "name": "ipython",
    "version": 3
   },
   "file_extension": ".py",
   "mimetype": "text/x-python",
   "name": "python",
   "nbconvert_exporter": "python",
   "pygments_lexer": "ipython3",
   "version": "3.8.19"
  }
 },
 "nbformat": 4,
 "nbformat_minor": 5
}
