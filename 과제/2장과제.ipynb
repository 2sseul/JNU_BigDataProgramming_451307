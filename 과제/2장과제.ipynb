{
 "cells": [
  {
   "cell_type": "markdown",
   "id": "8439b6db-5dfe-4d02-94f8-2a97c7456687",
   "metadata": {},
   "source": [
    "### 도전문제 2-1"
   ]
  },
  {
   "cell_type": "markdown",
   "id": "a54dccb8-1aee-42d0-9b84-b742fd1d3081",
   "metadata": {},
   "source": [
    "# 마크다운 테스트"
   ]
  },
  {
   "cell_type": "markdown",
   "id": "d0b127c3-d85a-4f8b-8a55-a87b810c3720",
   "metadata": {},
   "source": [
    "- 자신의 이름과 소속, 이메일 주소를 출력하자"
   ]
  },
  {
   "cell_type": "code",
   "execution_count": 1,
   "id": "ca44f289-a9fd-4bff-b3fd-259cb1a9e5b1",
   "metadata": {},
   "outputs": [
    {
     "name": "stdout",
     "output_type": "stream",
     "text": [
      "이름: 김이슬\n",
      "소속: 제주대학교 컴퓨터공학과\n",
      "이메일: kk980626@stu.jejunu.ac.kr\n"
     ]
    }
   ],
   "source": [
    "print('이름: 김이슬')\n",
    "print('소속: 제주대학교 컴퓨터공학과')\n",
    "print('이메일: kk980626@stu.jejunu.ac.kr')"
   ]
  }
 ],
 "metadata": {
  "kernelspec": {
   "display_name": "Python 3 (ipykernel)",
   "language": "python",
   "name": "python3"
  },
  "language_info": {
   "codemirror_mode": {
    "name": "ipython",
    "version": 3
   },
   "file_extension": ".py",
   "mimetype": "text/x-python",
   "name": "python",
   "nbconvert_exporter": "python",
   "pygments_lexer": "ipython3",
   "version": "3.8.19"
  }
 },
 "nbformat": 4,
 "nbformat_minor": 5
}
