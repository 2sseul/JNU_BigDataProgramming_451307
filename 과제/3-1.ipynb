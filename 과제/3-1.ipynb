{
 "cells": [
  {
   "cell_type": "markdown",
   "id": "ad610aab-94ac-48d6-8ed3-3e6147906205",
   "metadata": {},
   "source": [
    "## 2025208017 컴퓨터공학과 김이슬"
   ]
  },
  {
   "cell_type": "code",
   "execution_count": 1,
   "id": "6b11247d-2e3b-45a3-a6ff-00dd9c440c21",
   "metadata": {},
   "outputs": [],
   "source": [
    "import numpy as np"
   ]
  },
  {
   "cell_type": "code",
   "execution_count": 2,
   "id": "600f1b80-472d-4e40-864b-15bea0887493",
   "metadata": {},
   "outputs": [
    {
     "name": "stdout",
     "output_type": "stream",
     "text": [
      "a = [ 1  2  3  4  5  6  7  8  9 10]\n",
      "b = [ 10  20  30  40  50  60  70  80  90 100]\n",
      "a + b = [ 11  22  33  44  55  66  77  88  99 110]\n",
      "a - b = [ -9 -18 -27 -36 -45 -54 -63 -72 -81 -90]\n",
      "a * b = [  10   40   90  160  250  360  490  640  810 1000]\n",
      "a / b = [0.1 0.1 0.1 0.1 0.1 0.1 0.1 0.1 0.1 0.1]\n",
      "a + b = [  81  324  729 1296 2025 2916 3969 5184 6561 8100]\n",
      "a % b = [ 1  2  3  4  5  6  7  8  9 10]\n"
     ]
    }
   ],
   "source": [
    "a = np.array(range(1, 11))\n",
    "b = np.array(range(10, 101, 10))\n",
    "\n",
    "print(f'a = {a}')\n",
    "print(f'b = {b}')\n",
    "print(f'a + b = {a + b}')\n",
    "print(f'a - b = {a - b}')\n",
    "print(f'a * b = {a * b}')\n",
    "print(f'a / b = {a / b}')\n",
    "print(f'a + b = {(a - b) ** 2}')\n",
    "print(f'a % b = {a % b}')"
   ]
  }
 ],
 "metadata": {
  "kernelspec": {
   "display_name": "Python 3 (ipykernel)",
   "language": "python",
   "name": "python3"
  },
  "language_info": {
   "codemirror_mode": {
    "name": "ipython",
    "version": 3
   },
   "file_extension": ".py",
   "mimetype": "text/x-python",
   "name": "python",
   "nbconvert_exporter": "python",
   "pygments_lexer": "ipython3",
   "version": "3.8.19"
  }
 },
 "nbformat": 4,
 "nbformat_minor": 5
}
