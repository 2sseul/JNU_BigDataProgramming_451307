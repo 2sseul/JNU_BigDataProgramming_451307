{
 "cells": [
  {
   "cell_type": "markdown",
   "id": "801892b3-f5c6-43f7-8044-f7624587eb18",
   "metadata": {},
   "source": [
    "### 컴퓨터공학과 2025208017 김이슬"
   ]
  },
  {
   "cell_type": "code",
   "execution_count": 1,
   "id": "a5678493-4cb8-4a72-b1cd-6c1917b88377",
   "metadata": {},
   "outputs": [],
   "source": [
    "import numpy as np"
   ]
  },
  {
   "cell_type": "code",
   "execution_count": 2,
   "id": "36fab30d-195f-4fbb-a0fa-c2d5b2a24b11",
   "metadata": {},
   "outputs": [
    {
     "name": "stdout",
     "output_type": "stream",
     "text": [
      "[[183.79192154 170.93148896 177.55956296]\n",
      " [177.76480166 197.61652183 178.69839671]\n",
      " [162.12969174 186.70414253 180.02737044]\n",
      " [194.34597756 186.6438963  210.29874768]]\n"
     ]
    }
   ],
   "source": [
    "mean = 180\n",
    "std = 13\n",
    "\n",
    "array = np.random.normal(loc=mean, scale=std, size=(4,3))\n",
    "\n",
    "print(array)"
   ]
  }
 ],
 "metadata": {
  "kernelspec": {
   "display_name": "Python 3 (ipykernel)",
   "language": "python",
   "name": "python3"
  },
  "language_info": {
   "codemirror_mode": {
    "name": "ipython",
    "version": 3
   },
   "file_extension": ".py",
   "mimetype": "text/x-python",
   "name": "python",
   "nbconvert_exporter": "python",
   "pygments_lexer": "ipython3",
   "version": "3.8.19"
  }
 },
 "nbformat": 4,
 "nbformat_minor": 5
}
