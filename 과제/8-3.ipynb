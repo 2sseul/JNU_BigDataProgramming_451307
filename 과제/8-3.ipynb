{
 "cells": [
  {
   "cell_type": "markdown",
   "id": "d87fd66b-83b8-4f15-96da-348ef2a360d5",
   "metadata": {},
   "source": [
    "## 컴퓨터공학과 2025208017 김이슬"
   ]
  },
  {
   "cell_type": "code",
   "execution_count": 7,
   "id": "dd21c1a9-8b33-4050-bf64-9038d5cc98d8",
   "metadata": {},
   "outputs": [
    {
     "name": "stdout",
     "output_type": "stream",
     "text": [
      "2010년 8월부터 2020년 7월까지 평균 기온이 영하의 날씨였던 날은 235 일\n"
     ]
    }
   ],
   "source": [
    "import numpy as np\n",
    "import pandas as pd\n",
    "\n",
    "path = 'https://raw.githubusercontent.com/dongupak/BigDataAnalysis/main/'\n",
    "wdf = pd.read_csv(path + 'weather.csv', encoding='UTF-8')\n",
    "\n",
    "wdf['일시'] = pd.DatetimeIndex(wdf['일시'])\n",
    "\n",
    "wdf_date = wdf.query(\"'2010-08-01' <= 일시 <= '2020-07-31'\")\n",
    "\n",
    "wdf_zero = wdf_date.query(\"`평균 기온` < 0\")\n",
    "\n",
    "day = wdf_zero['평균 기온'].count()\n",
    "\n",
    "print(f\"2010년 8월부터 2020년 7월까지 평균 기온이 영하의 날씨였던 날은 {day} 일\")\n"
   ]
  }
 ],
 "metadata": {
  "kernelspec": {
   "display_name": "Python 3 (ipykernel)",
   "language": "python",
   "name": "python3"
  },
  "language_info": {
   "codemirror_mode": {
    "name": "ipython",
    "version": 3
   },
   "file_extension": ".py",
   "mimetype": "text/x-python",
   "name": "python",
   "nbconvert_exporter": "python",
   "pygments_lexer": "ipython3",
   "version": "3.10.16"
  }
 },
 "nbformat": 4,
 "nbformat_minor": 5
}
