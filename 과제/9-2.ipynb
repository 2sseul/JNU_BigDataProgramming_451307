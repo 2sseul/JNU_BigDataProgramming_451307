{
 "cells": [
  {
   "cell_type": "markdown",
   "id": "422e56bf-89eb-4bd7-98ba-eda92c37a28a",
   "metadata": {},
   "source": [
    "## 컴퓨터공학과 2025208017 김이슬"
   ]
  },
  {
   "cell_type": "code",
   "execution_count": 15,
   "id": "007c2bf8-e20c-4045-9f28-45ad13376e2d",
   "metadata": {},
   "outputs": [
    {
     "name": "stdout",
     "output_type": "stream",
     "text": [
      "    a1  b1  c1  d1  e1\n",
      "멜론   1   2   3   4   5\n",
      "망고   6   7   8   9  10\n",
      "포도  11  12  13  14  15\n"
     ]
    }
   ],
   "source": [
    "import pandas as pd\n",
    "import numpy as np\n",
    "\n",
    "df = pd.DataFrame(np.arange(1,16).reshape((3,5)),\n",
    "                  index = ['Apple', 'Mango', 'Grape'],\n",
    "                  columns = ['a1', 'b1', 'c1', 'd1', 'e1'])\n",
    "\n",
    "reform = lambda x: x.lower()\n",
    "df.index.map(reform)\n",
    "\n",
    "df.rename(index={'Apple':'Melon'}, inplace=True)\n",
    "\n",
    "df.rename(index={'Melon': '멜론', 'Mango': '망고', 'Grape': '포도'}, inplace=True)\n",
    "\n",
    "print(df)"
   ]
  },
  {
   "cell_type": "code",
   "execution_count": null,
   "id": "8f7c5e98-0ed6-424d-bb69-b10f30c065f4",
   "metadata": {},
   "outputs": [],
   "source": []
  }
 ],
 "metadata": {
  "kernelspec": {
   "display_name": "Python 3 (ipykernel)",
   "language": "python",
   "name": "python3"
  },
  "language_info": {
   "codemirror_mode": {
    "name": "ipython",
    "version": 3
   },
   "file_extension": ".py",
   "mimetype": "text/x-python",
   "name": "python",
   "nbconvert_exporter": "python",
   "pygments_lexer": "ipython3",
   "version": "3.8.19"
  }
 },
 "nbformat": 4,
 "nbformat_minor": 5
}
