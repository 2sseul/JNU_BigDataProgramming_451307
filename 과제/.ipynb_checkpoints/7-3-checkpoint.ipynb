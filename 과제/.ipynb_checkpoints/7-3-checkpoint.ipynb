{
 "cells": [
  {
   "cell_type": "markdown",
   "id": "d66b2c30-e42b-4288-bb7e-878985b1dc72",
   "metadata": {},
   "source": [
    "## 컴퓨터공학과 2025208017 김이슬"
   ]
  },
  {
   "cell_type": "code",
   "execution_count": 4,
   "id": "bb0cdcc5-b84f-4276-928f-11548cdac8a5",
   "metadata": {},
   "outputs": [
    {
     "name": "stdout",
     "output_type": "stream",
     "text": [
      "setosa.xlsx 저장 완료\n",
      "versicolor.xlsx 저장 완료\n",
      "virginica.xlsx 저장 완료\n"
     ]
    }
   ],
   "source": [
    "import seaborn as sns\n",
    "import pandas as pd\n",
    "\n",
    "# (1) iris 데이터셋 불러오기\n",
    "df = sns.load_dataset('iris')\n",
    "\n",
    "# (2) species(종) 별로 분리하여 각각 저장\n",
    "species_list = df['species'].unique()\n",
    "\n",
    "for species in species_list:\n",
    "    species_df = df[df['species'] == species]\n",
    "    filename = f'{species}.xlsx'  # 종별 저장\n",
    "    species_df.to_excel(filename, index=False)\n",
    "    print(f\"{filename} 저장 완료\")\n"
   ]
  },
  {
   "cell_type": "code",
   "execution_count": null,
   "id": "a6725b28-cd32-4f5b-b9c8-31a0dde63935",
   "metadata": {},
   "outputs": [],
   "source": []
  }
 ],
 "metadata": {
  "kernelspec": {
   "display_name": "Python 3 (ipykernel)",
   "language": "python",
   "name": "python3"
  },
  "language_info": {
   "codemirror_mode": {
    "name": "ipython",
    "version": 3
   },
   "file_extension": ".py",
   "mimetype": "text/x-python",
   "name": "python",
   "nbconvert_exporter": "python",
   "pygments_lexer": "ipython3",
   "version": "3.8.19"
  }
 },
 "nbformat": 4,
 "nbformat_minor": 5
}
