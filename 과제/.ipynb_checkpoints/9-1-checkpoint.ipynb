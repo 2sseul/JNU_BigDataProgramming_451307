{
 "cells": [
  {
   "cell_type": "markdown",
   "id": "8eee18fb-ab4a-4719-9cd0-38f2d0bcb7e3",
   "metadata": {},
   "source": [
    "## 컴퓨터공학과 2025208017 김이슬"
   ]
  },
  {
   "cell_type": "code",
   "execution_count": 17,
   "id": "a7bbc4d1-f2b2-42d3-8c19-523cd37c95c1",
   "metadata": {},
   "outputs": [
    {
     "data": {
      "text/html": [
       "<div>\n",
       "<style scoped>\n",
       "    .dataframe tbody tr th:only-of-type {\n",
       "        vertical-align: middle;\n",
       "    }\n",
       "\n",
       "    .dataframe tbody tr th {\n",
       "        vertical-align: top;\n",
       "    }\n",
       "\n",
       "    .dataframe thead th {\n",
       "        text-align: right;\n",
       "    }\n",
       "</style>\n",
       "<table border=\"1\" class=\"dataframe\">\n",
       "  <thead>\n",
       "    <tr style=\"text-align: right;\">\n",
       "      <th></th>\n",
       "      <th>과일</th>\n",
       "      <th>가격</th>\n",
       "      <th>순서</th>\n",
       "    </tr>\n",
       "  </thead>\n",
       "  <tbody>\n",
       "    <tr>\n",
       "      <th>0</th>\n",
       "      <td>청송 사과</td>\n",
       "      <td>3000</td>\n",
       "      <td>0</td>\n",
       "    </tr>\n",
       "    <tr>\n",
       "      <th>1</th>\n",
       "      <td>나주 배</td>\n",
       "      <td>4000</td>\n",
       "      <td>1</td>\n",
       "    </tr>\n",
       "    <tr>\n",
       "      <th>2</th>\n",
       "      <td>논산 딸기</td>\n",
       "      <td>4000</td>\n",
       "      <td>2</td>\n",
       "    </tr>\n",
       "    <tr>\n",
       "      <th>4</th>\n",
       "      <td>제주 귤</td>\n",
       "      <td>5000</td>\n",
       "      <td>4</td>\n",
       "    </tr>\n",
       "  </tbody>\n",
       "</table>\n",
       "</div>"
      ],
      "text/plain": [
       "      과일    가격  순서\n",
       "0  청송 사과  3000   0\n",
       "1   나주 배  4000   1\n",
       "2  논산 딸기  4000   2\n",
       "4   제주 귤  5000   4"
      ]
     },
     "execution_count": 17,
     "metadata": {},
     "output_type": "execute_result"
    }
   ],
   "source": [
    "import pandas as pd\n",
    "\n",
    "data = [['사과', 3000], ['배',4000], ['딸기',4000],['사과',3000], ['귤',5000], ['배',4000]]\n",
    "\n",
    "fruits = [x[0] for x in data]\n",
    "prices = [x[1] for x in data]\n",
    "\n",
    "df = pd.DataFrame({'과일':fruits, '가격':prices})\n",
    "df['순서'] = range(len(fruits))\n",
    "\n",
    "df = df.replace('사과', '청송 사과')\n",
    "df = df.replace('배', '나주 배')\n",
    "df = df.replace('딸기', '논산 딸기')\n",
    "df = df.replace('귤', '제주 귤')\n",
    "\n",
    "df = df.drop_duplicates(['과일'])\n",
    "\n",
    "df"
   ]
  },
  {
   "cell_type": "code",
   "execution_count": null,
   "id": "2e0500eb-586b-4c33-9bfd-4973a1a9f284",
   "metadata": {},
   "outputs": [],
   "source": []
  }
 ],
 "metadata": {
  "kernelspec": {
   "display_name": "Python 3 (ipykernel)",
   "language": "python",
   "name": "python3"
  },
  "language_info": {
   "codemirror_mode": {
    "name": "ipython",
    "version": 3
   },
   "file_extension": ".py",
   "mimetype": "text/x-python",
   "name": "python",
   "nbconvert_exporter": "python",
   "pygments_lexer": "ipython3",
   "version": "3.8.19"
  }
 },
 "nbformat": 4,
 "nbformat_minor": 5
}
