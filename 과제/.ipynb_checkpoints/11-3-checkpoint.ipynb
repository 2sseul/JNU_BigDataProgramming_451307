{
 "cells": [
  {
   "cell_type": "code",
   "execution_count": 3,
   "id": "0cf19793-a88d-4803-883a-a288e8db8178",
   "metadata": {},
   "outputs": [
    {
     "ename": "FileNotFoundError",
     "evalue": "[Errno 2] No such file or directory: '/Users/kimeaseul/Desktop/JNU/빅데이터프로그래밍/JNU_BigDataProgramming_451307/과제/cloud.png'",
     "output_type": "error",
     "traceback": [
      "\u001b[0;31m---------------------------------------------------------------------------\u001b[0m",
      "\u001b[0;31mFileNotFoundError\u001b[0m                         Traceback (most recent call last)",
      "Cell \u001b[0;32mIn[3], line 17\u001b[0m\n\u001b[1;32m     14\u001b[0m stopwords \u001b[38;5;241m=\u001b[39m STOPWORDS\u001b[38;5;241m.\u001b[39munion(custom_stopwords)\n\u001b[1;32m     16\u001b[0m \u001b[38;5;66;03m# 로컬 이미지 경로로 마스크 불러오기\u001b[39;00m\n\u001b[0;32m---> 17\u001b[0m mask \u001b[38;5;241m=\u001b[39m np\u001b[38;5;241m.\u001b[39marray(\u001b[43mImage\u001b[49m\u001b[38;5;241;43m.\u001b[39;49m\u001b[43mopen\u001b[49m\u001b[43m(\u001b[49m\u001b[38;5;124;43m\"\u001b[39;49m\u001b[38;5;124;43mcloud.png\u001b[39;49m\u001b[38;5;124;43m\"\u001b[39;49m\u001b[43m)\u001b[49m)  \u001b[38;5;66;03m# ← 이미지 파일명만 수정\u001b[39;00m\n\u001b[1;32m     19\u001b[0m \u001b[38;5;66;03m# 워드클라우드 생성\u001b[39;00m\n\u001b[1;32m     20\u001b[0m wordcloud \u001b[38;5;241m=\u001b[39m WordCloud(\n\u001b[1;32m     21\u001b[0m     width\u001b[38;5;241m=\u001b[39m\u001b[38;5;241m800\u001b[39m,\n\u001b[1;32m     22\u001b[0m     height\u001b[38;5;241m=\u001b[39m\u001b[38;5;241m400\u001b[39m,\n\u001b[0;32m   (...)\u001b[0m\n\u001b[1;32m     27\u001b[0m     contour_width\u001b[38;5;241m=\u001b[39m\u001b[38;5;241m1\u001b[39m\n\u001b[1;32m     28\u001b[0m )\u001b[38;5;241m.\u001b[39mgenerate(text)\n",
      "File \u001b[0;32m/opt/anaconda3/envs/sseul2/lib/python3.8/site-packages/PIL/Image.py:3431\u001b[0m, in \u001b[0;36mopen\u001b[0;34m(fp, mode, formats)\u001b[0m\n\u001b[1;32m   3428\u001b[0m     filename \u001b[38;5;241m=\u001b[39m os\u001b[38;5;241m.\u001b[39mpath\u001b[38;5;241m.\u001b[39mrealpath(os\u001b[38;5;241m.\u001b[39mfspath(fp))\n\u001b[1;32m   3430\u001b[0m \u001b[38;5;28;01mif\u001b[39;00m filename:\n\u001b[0;32m-> 3431\u001b[0m     fp \u001b[38;5;241m=\u001b[39m \u001b[43mbuiltins\u001b[49m\u001b[38;5;241;43m.\u001b[39;49m\u001b[43mopen\u001b[49m\u001b[43m(\u001b[49m\u001b[43mfilename\u001b[49m\u001b[43m,\u001b[49m\u001b[43m \u001b[49m\u001b[38;5;124;43m\"\u001b[39;49m\u001b[38;5;124;43mrb\u001b[39;49m\u001b[38;5;124;43m\"\u001b[39;49m\u001b[43m)\u001b[49m\n\u001b[1;32m   3432\u001b[0m     exclusive_fp \u001b[38;5;241m=\u001b[39m \u001b[38;5;28;01mTrue\u001b[39;00m\n\u001b[1;32m   3433\u001b[0m \u001b[38;5;28;01melse\u001b[39;00m:\n",
      "\u001b[0;31mFileNotFoundError\u001b[0m: [Errno 2] No such file or directory: '/Users/kimeaseul/Desktop/JNU/빅데이터프로그래밍/JNU_BigDataProgramming_451307/과제/cloud.png'"
     ]
    }
   ],
   "source": [
    "import requests\n",
    "from wordcloud import WordCloud, STOPWORDS\n",
    "import matplotlib.pyplot as plt\n",
    "import numpy as np\n",
    "from PIL import Image\n",
    "\n",
    "# README 텍스트 가져오기\n",
    "url = \"https://raw.githubusercontent.com/hpcaitech/Open-Sora/main/README.md\"\n",
    "response = requests.get(url)\n",
    "text = response.text\n",
    "\n",
    "# 불용어 설정\n",
    "custom_stopwords = {'the','and','for','with','from','that','this','open','https'}\n",
    "stopwords = STOPWORDS.union(custom_stopwords)\n",
    "\n",
    "# 로컬 이미지 경로로 마스크 불러오기\n",
    "mask = np.array(Image.open(\"cloud.png\"))  # ← 이미지 파일명만 수정\n",
    "\n",
    "# 워드클라우드 생성\n",
    "wordcloud = WordCloud(\n",
    "    width=800,\n",
    "    height=400,\n",
    "    background_color='white',\n",
    "    mask=mask,\n",
    "    stopwords=stopwords,\n",
    "    contour_color='skyblue',\n",
    "    contour_width=1\n",
    ").generate(text)\n",
    "\n",
    "# 시각화\n",
    "plt.figure(figsize=(12, 6))\n",
    "plt\n"
   ]
  },
  {
   "cell_type": "code",
   "execution_count": null,
   "id": "932cf69f-cce7-4440-b30f-52c22bc15dc5",
   "metadata": {},
   "outputs": [],
   "source": []
  }
 ],
 "metadata": {
  "kernelspec": {
   "display_name": "Python 3 (ipykernel)",
   "language": "python",
   "name": "python3"
  },
  "language_info": {
   "codemirror_mode": {
    "name": "ipython",
    "version": 3
   },
   "file_extension": ".py",
   "mimetype": "text/x-python",
   "name": "python",
   "nbconvert_exporter": "python",
   "pygments_lexer": "ipython3",
   "version": "3.8.19"
  }
 },
 "nbformat": 4,
 "nbformat_minor": 5
}
