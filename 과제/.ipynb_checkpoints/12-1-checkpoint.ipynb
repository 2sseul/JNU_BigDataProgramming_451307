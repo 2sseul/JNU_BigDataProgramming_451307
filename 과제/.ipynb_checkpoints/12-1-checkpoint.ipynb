{
 "cells": [
  {
   "cell_type": "markdown",
   "id": "0a571225-0b63-4830-8fdd-b1eb4a11a061",
   "metadata": {},
   "source": [
    "# 컴퓨터공학과 2025208017 김이슬"
   ]
  },
  {
   "cell_type": "code",
   "execution_count": 1,
   "id": "bbbfd4bb-5b95-4d4f-9b1f-27476234b6b5",
   "metadata": {},
   "outputs": [
    {
     "name": "stdout",
     "output_type": "stream",
     "text": [
      "평균 절대 오차(MAE): 3.5\n"
     ]
    }
   ],
   "source": [
    "y = [10, 20, 30, 40, 50, 60]\n",
    "y_hat = [12, 23, 25, 46, 54, 61]\n",
    "\n",
    "# 절대 오차의 평균\n",
    "mae = sum(abs(a - b) for a, b in zip(y, y_hat)) / len(y)\n",
    "print(\"평균 절대 오차(MAE):\", mae)"
   ]
  },
  {
   "cell_type": "code",
   "execution_count": null,
   "id": "8c1d3560-9bdb-4c97-8964-2eaab4657a46",
   "metadata": {},
   "outputs": [],
   "source": []
  }
 ],
 "metadata": {
  "kernelspec": {
   "display_name": "Python 3 (ipykernel)",
   "language": "python",
   "name": "python3"
  },
  "language_info": {
   "codemirror_mode": {
    "name": "ipython",
    "version": 3
   },
   "file_extension": ".py",
   "mimetype": "text/x-python",
   "name": "python",
   "nbconvert_exporter": "python",
   "pygments_lexer": "ipython3",
   "version": "3.8.19"
  }
 },
 "nbformat": 4,
 "nbformat_minor": 5
}
