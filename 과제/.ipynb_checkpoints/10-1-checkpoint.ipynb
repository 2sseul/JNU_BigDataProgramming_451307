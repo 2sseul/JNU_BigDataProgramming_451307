{
 "cells": [
  {
   "cell_type": "markdown",
   "id": "a3ac0c5c-2852-4e9c-8be8-bf230a6e2ef3",
   "metadata": {},
   "source": [
    "# 컴퓨터공학과 2025208017 김이슬"
   ]
  },
  {
   "cell_type": "code",
   "execution_count": 7,
   "id": "1de48876-8116-4bd5-8701-ba6f47e0d57b",
   "metadata": {},
   "outputs": [
    {
     "name": "stdout",
     "output_type": "stream",
     "text": [
      "PassengerId        0.0% (0개)\n",
      "Survived           0.0% (0개)\n",
      "Pclass             0.0% (0개)\n",
      "Name               0.0% (0개)\n",
      "Sex                0.0% (0개)\n",
      "Age            19.87% (177개)\n",
      "SibSp              0.0% (0개)\n",
      "Parch              0.0% (0개)\n",
      "Ticket             0.0% (0개)\n",
      "Fare               0.0% (0개)\n",
      "Cabin           77.1% (687개)\n",
      "Embarked          0.22% (2개)\n",
      "dtype: object\n"
     ]
    }
   ],
   "source": [
    "import pandas as pd\n",
    "\n",
    "path = \"https://raw.githubusercontent.com/dongupak/BigDataAnalysis/main/\"\n",
    "train_df = pd.read_csv(path+\"train.csv\")\n",
    "test_df = pd.read_csv(path+\"test.csv\")\n",
    "\n",
    "na_count = train_df.isna().sum()\n",
    "na_ratio = (train_df.isna().mean() * 100).round(2)\n",
    "\n",
    "na_info = na_ratio.astype(str) + '% (' + na_count.astype(str) + '개)'\n",
    "print(na_info)"
   ]
  },
  {
   "cell_type": "code",
   "execution_count": null,
   "id": "4997d13b-6323-4485-b021-a83e5cc49c4d",
   "metadata": {},
   "outputs": [],
   "source": []
  }
 ],
 "metadata": {
  "kernelspec": {
   "display_name": "Python 3 (ipykernel)",
   "language": "python",
   "name": "python3"
  },
  "language_info": {
   "codemirror_mode": {
    "name": "ipython",
    "version": 3
   },
   "file_extension": ".py",
   "mimetype": "text/x-python",
   "name": "python",
   "nbconvert_exporter": "python",
   "pygments_lexer": "ipython3",
   "version": "3.8.19"
  }
 },
 "nbformat": 4,
 "nbformat_minor": 5
}
