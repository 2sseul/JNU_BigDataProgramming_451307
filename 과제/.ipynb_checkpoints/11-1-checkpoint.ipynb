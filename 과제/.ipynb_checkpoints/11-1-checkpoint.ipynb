{
 "cells": [
  {
   "cell_type": "markdown",
   "id": "07958849-19b4-4698-a2f6-246273dee373",
   "metadata": {},
   "source": [
    "# 2025208017 컴퓨터공학과 김이슬"
   ]
  },
  {
   "cell_type": "code",
   "execution_count": 4,
   "id": "9f893bd1-b8d8-45c5-9519-5fcaf8791a32",
   "metadata": {},
   "outputs": [
    {
     "name": "stdout",
     "output_type": "stream",
     "text": [
      "                                Location  Population % of world         Date  \\\n",
      "0                                  World  8232000000       100%  13 Jun 2025   \n",
      "1                                  India  1413324000        NaN   1 Mar 2025   \n",
      "2                                  China  1408280000        NaN  31 Dec 2024   \n",
      "3                          United States   340110988        NaN   1 Jul 2024   \n",
      "4                              Indonesia   282477584        NaN  30 Jun 2024   \n",
      "..                                   ...         ...        ...          ...   \n",
      "235                   Niue (New Zealand)        1681        NaN  11 Nov 2022   \n",
      "236                Tokelau (New Zealand)        1647        NaN   1 Jan 2019   \n",
      "237                         Vatican City         882        NaN  31 Dec 2024   \n",
      "238  Cocos (Keeling) Islands (Australia)         593        NaN  30 Jun 2020   \n",
      "239                Pitcairn Islands (UK)          35        NaN   1 Jul 2023   \n",
      "\n",
      "    Source (official or from the United Nations) Notes  \n",
      "0                            UN projection[1][3]   NaN  \n",
      "1                         Official projection[4]   [b]  \n",
      "2                           Official estimate[5]   [c]  \n",
      "3                           Official estimate[6]   [d]  \n",
      "4                  National annual projection[7]   NaN  \n",
      "..                                           ...   ...  \n",
      "235                             2022 Census[246]   NaN  \n",
      "236                             2019 Census[247]   NaN  \n",
      "237                         Official figure[248]  [ah]  \n",
      "238                             2021 Census[249]   NaN  \n",
      "239                       Official estimate[250]   NaN  \n",
      "\n",
      "[240 rows x 6 columns]\n",
      "인구 100만 이하의 국가 및 속령 수: 79\n"
     ]
    }
   ],
   "source": [
    "import pandas as pd\n",
    "\n",
    "url = \"https://en.wikipedia.org/wiki/List_of_countries_and_dependencies_by_population\"\n",
    "\n",
    "tables = pd.read_html(url)\n",
    "\n",
    "df = tables[0]\n",
    "\n",
    "print(df)\n",
    "\n",
    "df['Population'] = df['Population'].astype(str).str.replace(',', '').astype(int)\n",
    "\n",
    "under_1_million = df[df['Population'] <= 1_000_000]\n",
    "\n",
    "print(\"인구 100만 이하의 국가 및 속령 수:\", len(under_1_million))"
   ]
  }
 ],
 "metadata": {
  "kernelspec": {
   "display_name": "Python 3 (ipykernel)",
   "language": "python",
   "name": "python3"
  },
  "language_info": {
   "codemirror_mode": {
    "name": "ipython",
    "version": 3
   },
   "file_extension": ".py",
   "mimetype": "text/x-python",
   "name": "python",
   "nbconvert_exporter": "python",
   "pygments_lexer": "ipython3",
   "version": "3.8.19"
  }
 },
 "nbformat": 4,
 "nbformat_minor": 5
}
