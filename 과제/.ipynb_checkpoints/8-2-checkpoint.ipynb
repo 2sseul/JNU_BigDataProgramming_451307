{
 "cells": [
  {
   "cell_type": "markdown",
   "id": "0bf1dc29-17a5-4fbe-90a9-5fd04ba56e8b",
   "metadata": {},
   "source": [
    "## 컴퓨터공학과 2025208017 김이슬"
   ]
  },
  {
   "cell_type": "code",
   "execution_count": 11,
   "id": "1651ee9d-e993-4ba6-90ff-f052fa2930c7",
   "metadata": {},
   "outputs": [
    {
     "name": "stdout",
     "output_type": "stream",
     "text": [
      "month\n",
      "1      4.503226\n",
      "2      4.382759\n",
      "3      8.038710\n",
      "4     12.670000\n",
      "5     18.387097\n",
      "6     21.466667\n",
      "7     24.996774\n",
      "8     26.635484\n",
      "9     21.123333\n",
      "10    16.083871\n",
      "11    11.476667\n",
      "12     5.945161\n",
      "Name: 평균 기온, dtype: float64\n"
     ]
    }
   ],
   "source": [
    "import numpy as np\n",
    "import pandas as pd\n",
    "\n",
    "path = 'https://raw.githubusercontent.com/dongupak/BigDataAnalysis/main/'\n",
    "wdf = pd.read_csv(path + 'weather.csv', encoding='UTF-8').set_index('일시')\n",
    "\n",
    "wdf.index = pd.to_datetime(wdf.index)\n",
    "\n",
    "wdf['year'] = pd.DatetimeIndex(wdf.index).year\n",
    "wdf['month'] = pd.DatetimeIndex(wdf.index).month\n",
    "\n",
    "monthly_avg = wdf.groupby(['year', 'month'])['평균 기온'].mean().reset_index()\n",
    "\n",
    "result = monthly_avg.groupby('month')['평균 기온'].max()\n",
    "\n",
    "print(result)"
   ]
  },
  {
   "cell_type": "code",
   "execution_count": null,
   "id": "e1d3ea6a-1725-4b07-bd73-52c6163e50fa",
   "metadata": {},
   "outputs": [],
   "source": []
  }
 ],
 "metadata": {
  "kernelspec": {
   "display_name": "Python 3 (ipykernel)",
   "language": "python",
   "name": "python3"
  },
  "language_info": {
   "codemirror_mode": {
    "name": "ipython",
    "version": 3
   },
   "file_extension": ".py",
   "mimetype": "text/x-python",
   "name": "python",
   "nbconvert_exporter": "python",
   "pygments_lexer": "ipython3",
   "version": "3.10.16"
  }
 },
 "nbformat": 4,
 "nbformat_minor": 5
}
