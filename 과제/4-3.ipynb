{
 "cells": [
  {
   "cell_type": "markdown",
   "id": "992e004a-a443-4fd8-84a0-dc619305d5b8",
   "metadata": {},
   "source": [
    "### 컴퓨터공학과 2025208017 김이슬"
   ]
  },
  {
   "cell_type": "code",
   "execution_count": 1,
   "id": "26b20989-a73d-46c4-af15-7f84429b7d03",
   "metadata": {},
   "outputs": [],
   "source": [
    "import numpy as np"
   ]
  },
  {
   "cell_type": "code",
   "execution_count": 2,
   "id": "f7e1494d-7892-417c-a4cd-379c9c28beff",
   "metadata": {},
   "outputs": [],
   "source": [
    "x = np.arange(1, 51)\n",
    "\n",
    "np.random.shuffle(x)"
   ]
  },
  {
   "cell_type": "code",
   "execution_count": 3,
   "id": "ea700f27-ee7a-4695-b637-b5fee9cc67e5",
   "metadata": {},
   "outputs": [],
   "source": [
    "split_index = int(len(x) * 0.6)\n",
    "train_data = x[:split_index]\n",
    "test_data = x[split_index:]"
   ]
  },
  {
   "cell_type": "code",
   "execution_count": 4,
   "id": "ab8fd402-ed51-4f98-b8bf-086423107a0a",
   "metadata": {},
   "outputs": [
    {
     "name": "stdout",
     "output_type": "stream",
     "text": [
      "train_data = [39 40 14 18 45 25 22 38  5 15 30  7 32 24 47 13 28  2 23 12 50 46 48  6\n",
      " 36 41 27 26  1 49]\n",
      "test_data = [17 34 31 33  4 43  3 11 21 35 10 19 37 29  9 44  8 16 42 20]\n"
     ]
    }
   ],
   "source": [
    "print(f'train_data = {train_data}')\n",
    "print(f'test_data = {test_data}')"
   ]
  }
 ],
 "metadata": {
  "kernelspec": {
   "display_name": "Python 3 (ipykernel)",
   "language": "python",
   "name": "python3"
  },
  "language_info": {
   "codemirror_mode": {
    "name": "ipython",
    "version": 3
   },
   "file_extension": ".py",
   "mimetype": "text/x-python",
   "name": "python",
   "nbconvert_exporter": "python",
   "pygments_lexer": "ipython3",
   "version": "3.8.19"
  }
 },
 "nbformat": 4,
 "nbformat_minor": 5
}
