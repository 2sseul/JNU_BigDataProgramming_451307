{
 "cells": [
  {
   "cell_type": "markdown",
   "id": "f167539a-7628-4d4e-a16a-318a2fcff55f",
   "metadata": {},
   "source": [
    "## 컴퓨터공학과 2025208017 김이슬"
   ]
  },
  {
   "cell_type": "code",
   "execution_count": 3,
   "id": "a9ecaf50-a5ae-4684-9dca-d53a6bdab763",
   "metadata": {},
   "outputs": [
    {
     "name": "stdout",
     "output_type": "stream",
     "text": [
      "울릉도의 일일 평균 기온의 최대값 : 31.3\n",
      "울릉도의 일일 평균 풍속의 최대값 : 14.9\n",
      "울릉도의 일일 최대 풍속의 최대값 : 26.0\n",
      "울릉도의 일일 평균 기온의 최소값 : -9.0\n",
      "울릉도의 일일 평균 풍속의 최소값 : 0.2\n",
      "울릉도의 일일 최대 풍속의 최소값 : 2.0\n"
     ]
    }
   ],
   "source": [
    "import numpy as np\n",
    "import pandas as pd\n",
    "\n",
    "path = 'https://raw.githubusercontent.com/dongupak/BigDataAnalysis/main/'\n",
    "wdf = pd.read_csv(path+'weather.csv', encoding='UTF-8')\n",
    "\n",
    "print(\"울릉도의 일일 평균 기온의 최대값 :\", wdf['평균 기온'].max())\n",
    "print(\"울릉도의 일일 평균 풍속의 최대값 :\", wdf['평균 풍속'].max())\n",
    "print(\"울릉도의 일일 최대 풍속의 최대값 :\", wdf['최대 풍속'].max())\n",
    "print(\"울릉도의 일일 평균 기온의 최소값 :\", wdf['평균 기온'].min())\n",
    "print(\"울릉도의 일일 평균 풍속의 최소값 :\", wdf['평균 풍속'].min())\n",
    "print(\"울릉도의 일일 최대 풍속의 최소값 :\", wdf['최대 풍속'].min())"
   ]
  },
  {
   "cell_type": "code",
   "execution_count": null,
   "id": "8680e95e-e847-497f-939a-de90240f84bd",
   "metadata": {},
   "outputs": [],
   "source": []
  }
 ],
 "metadata": {
  "kernelspec": {
   "display_name": "Python 3 (ipykernel)",
   "language": "python",
   "name": "python3"
  },
  "language_info": {
   "codemirror_mode": {
    "name": "ipython",
    "version": 3
   },
   "file_extension": ".py",
   "mimetype": "text/x-python",
   "name": "python",
   "nbconvert_exporter": "python",
   "pygments_lexer": "ipython3",
   "version": "3.10.16"
  }
 },
 "nbformat": 4,
 "nbformat_minor": 5
}
