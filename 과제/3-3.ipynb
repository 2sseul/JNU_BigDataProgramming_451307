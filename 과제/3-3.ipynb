{
 "cells": [
  {
   "cell_type": "markdown",
   "id": "84a7c0a7-7c18-4128-bf37-466bd7ed759d",
   "metadata": {},
   "source": [
    "## 2025208017 컴퓨터공학과 김이슬"
   ]
  },
  {
   "cell_type": "code",
   "execution_count": 1,
   "id": "fdcf90b7-8b79-41c1-96bd-49bd8e418377",
   "metadata": {},
   "outputs": [],
   "source": [
    "import numpy as np"
   ]
  },
  {
   "cell_type": "code",
   "execution_count": 2,
   "id": "a766dfa1-b3b4-49c8-a170-18f7b74e9a11",
   "metadata": {},
   "outputs": [
    {
     "name": "stdout",
     "output_type": "stream",
     "text": [
      "1보다 크고 50보다 작은 홀수의 집합: [ 3  5  7  9 11 13 15 17 19 21 23 25 27 29 31 33 35 37 39 41 43 45 47 49]\n",
      "1보다 크고 50보다 작은 짝수의 집합: [ 2  4  6  8 10 12 14 16 18 20 22 24 26 28 30 32 34 36 38 40 42 44 46 48]\n",
      "1보다 크고 100보다 작은 5의 배수의 집합: [ 5 10 15 20 25 30 35 40 45 50 55 60 65 70 75 80 85 90 95]\n",
      "1보다 크고 100보다 작은 11의 배수의 집합: [11 22 33 44 55 66 77 88 99]\n"
     ]
    }
   ],
   "source": [
    "a = np.arange(3, 50, 2)\n",
    "b = np.arange(2, 50, 2)\n",
    "c = np.arange(5, 100, 5)\n",
    "d = np.arange(11, 100, 11)\n",
    "\n",
    "print(f'1보다 크고 50보다 작은 홀수의 집합: {a}')\n",
    "print(f'1보다 크고 50보다 작은 짝수의 집합: {b}')\n",
    "print(f'1보다 크고 100보다 작은 5의 배수의 집합: {c}')\n",
    "print(f'1보다 크고 100보다 작은 11의 배수의 집합: {d}')"
   ]
  }
 ],
 "metadata": {
  "kernelspec": {
   "display_name": "Python 3 (ipykernel)",
   "language": "python",
   "name": "python3"
  },
  "language_info": {
   "codemirror_mode": {
    "name": "ipython",
    "version": 3
   },
   "file_extension": ".py",
   "mimetype": "text/x-python",
   "name": "python",
   "nbconvert_exporter": "python",
   "pygments_lexer": "ipython3",
   "version": "3.8.19"
  }
 },
 "nbformat": 4,
 "nbformat_minor": 5
}
