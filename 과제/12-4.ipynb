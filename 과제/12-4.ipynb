{
 "cells": [
  {
   "cell_type": "markdown",
   "id": "6d727c62-3225-4831-9bf1-6904547e3477",
   "metadata": {},
   "source": [
    "# 컴퓨터공학과 2025208017 김이슬"
   ]
  },
  {
   "cell_type": "code",
   "execution_count": 4,
   "id": "b784a625-36f9-4a86-a197-d7cb43a3e93f",
   "metadata": {},
   "outputs": [
    {
     "name": "stdout",
     "output_type": "stream",
     "text": [
      "계수: [650.63138341 491.98271159 283.8989004 ]\n",
      "절편: 151.67416300012866\n",
      "테스트 데이터 점수 (R²): 0.45433099153843415\n",
      "계수: [732.10902123 562.22653533]\n",
      "절편: 151.78215201657332\n",
      "테스트 데이터 점수 (R²): 0.4522925957397933\n"
     ]
    }
   ],
   "source": [
    "from sklearn.datasets import load_diabetes\n",
    "from sklearn.linear_model import LinearRegression\n",
    "from sklearn.model_selection import train_test_split\n",
    "\n",
    "# 데이터 로드\n",
    "diabetes = load_diabetes()\n",
    "y = diabetes.target\n",
    "\n",
    "X_3 = diabetes.data[:, [2, 8, 3]]   # 3개 특성\n",
    "X_2 = diabetes.data[:, [2, 8]]      # 2개 특성\n",
    "\n",
    "X3_train, X3_test, y3_train, y3_test = train_test_split(X_3, y, test_size=0.2, random_state=42)\n",
    "X2_train, X2_test, y2_train, y2_test = train_test_split(X_2, y, test_size=0.2, random_state=42)\n",
    "\n",
    "model3 = LinearRegression()\n",
    "model3.fit(X3_train, y3_train)\n",
    "\n",
    "model2 = LinearRegression()\n",
    "model2.fit(X2_train, y2_train)\n",
    "\n",
    "print(\"계수:\", model3.coef_)\n",
    "print(\"절편:\", model3.intercept_)\n",
    "print(\"테스트 데이터 점수 (R²):\", model3.score(X3_test, y3_test))\n",
    "\n",
    "print(\"계수:\", model2.coef_)\n",
    "print(\"절편:\", model2.intercept_)\n",
    "print(\"테스트 데이터 점수 (R²):\", model2.score(X2_test, y2_test))\n"
   ]
  },
  {
   "cell_type": "code",
   "execution_count": null,
   "id": "d42a16b7-e5f3-4639-87cc-8564b2a99789",
   "metadata": {},
   "outputs": [],
   "source": []
  }
 ],
 "metadata": {
  "kernelspec": {
   "display_name": "Python 3 (ipykernel)",
   "language": "python",
   "name": "python3"
  },
  "language_info": {
   "codemirror_mode": {
    "name": "ipython",
    "version": 3
   },
   "file_extension": ".py",
   "mimetype": "text/x-python",
   "name": "python",
   "nbconvert_exporter": "python",
   "pygments_lexer": "ipython3",
   "version": "3.8.19"
  }
 },
 "nbformat": 4,
 "nbformat_minor": 5
}
