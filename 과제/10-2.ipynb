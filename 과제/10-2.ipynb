{
 "cells": [
  {
   "cell_type": "markdown",
   "id": "f1a1949d-f1e5-4549-9535-6d441dcce234",
   "metadata": {},
   "source": [
    "# 컴퓨터공학과 2025208017 김이슬"
   ]
  },
  {
   "cell_type": "code",
   "execution_count": 1,
   "id": "1f8cd56b-2a0a-4534-b0af-05bdfbb615e6",
   "metadata": {},
   "outputs": [
    {
     "name": "stdout",
     "output_type": "stream",
     "text": [
      "PassengerId        0.0% (0개)\n",
      "Pclass             0.0% (0개)\n",
      "Name               0.0% (0개)\n",
      "Sex                0.0% (0개)\n",
      "Age             20.57% (86개)\n",
      "SibSp              0.0% (0개)\n",
      "Parch              0.0% (0개)\n",
      "Ticket             0.0% (0개)\n",
      "Fare              0.24% (1개)\n",
      "Cabin          78.23% (327개)\n",
      "Embarked           0.0% (0개)\n",
      "dtype: object\n"
     ]
    }
   ],
   "source": [
    "import pandas as pd\n",
    "\n",
    "path = \"https://raw.githubusercontent.com/dongupak/BigDataAnalysis/main/\"\n",
    "train_df = pd.read_csv(path+\"train.csv\")\n",
    "test_df = pd.read_csv(path+\"test.csv\")\n",
    "\n",
    "na_count = test_df.isna().sum()\n",
    "na_ratio = (test_df.isna().mean() * 100).round(2)\n",
    "\n",
    "na_info = na_ratio.astype(str) + '% (' + na_count.astype(str) + '개)'\n",
    "print(na_info)"
   ]
  }
 ],
 "metadata": {
  "kernelspec": {
   "display_name": "Python 3 (ipykernel)",
   "language": "python",
   "name": "python3"
  },
  "language_info": {
   "codemirror_mode": {
    "name": "ipython",
    "version": 3
   },
   "file_extension": ".py",
   "mimetype": "text/x-python",
   "name": "python",
   "nbconvert_exporter": "python",
   "pygments_lexer": "ipython3",
   "version": "3.8.19"
  }
 },
 "nbformat": 4,
 "nbformat_minor": 5
}
