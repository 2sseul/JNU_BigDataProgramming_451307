{
 "cells": [
  {
   "cell_type": "markdown",
   "id": "6a4b201b-97d2-4252-a4f9-ce8b6a0c2550",
   "metadata": {},
   "source": [
    "### 컴퓨터공학과 2025208017 김이슬"
   ]
  },
  {
   "cell_type": "code",
   "execution_count": 1,
   "id": "cee02712-01d6-415b-8b17-91ca51014ddf",
   "metadata": {},
   "outputs": [],
   "source": [
    "import numpy as np"
   ]
  },
  {
   "cell_type": "code",
   "execution_count": 2,
   "id": "76ad2cbe-37ef-4359-849d-51335b7d13e3",
   "metadata": {},
   "outputs": [
    {
     "name": "stdout",
     "output_type": "stream",
     "text": [
      "[[69 24 55]\n",
      " [35 19 11]\n",
      " [ 4  1  9]]\n"
     ]
    }
   ],
   "source": [
    "array = ([[35, 24, 55], [69, 19, 9], [4, 1, 11]])\n",
    "\n",
    "array_sort = np.sort(array, axis=0)[::-1]\n",
    "print(array_sort)"
   ]
  }
 ],
 "metadata": {
  "kernelspec": {
   "display_name": "Python 3 (ipykernel)",
   "language": "python",
   "name": "python3"
  },
  "language_info": {
   "codemirror_mode": {
    "name": "ipython",
    "version": 3
   },
   "file_extension": ".py",
   "mimetype": "text/x-python",
   "name": "python",
   "nbconvert_exporter": "python",
   "pygments_lexer": "ipython3",
   "version": "3.8.19"
  }
 },
 "nbformat": 4,
 "nbformat_minor": 5
}
