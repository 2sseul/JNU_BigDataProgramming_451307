{
 "cells": [
  {
   "cell_type": "code",
   "execution_count": 1,
   "id": "f617059b-d50b-44bb-8691-b5496726ad77",
   "metadata": {},
   "outputs": [
    {
     "name": "stdout",
     "output_type": "stream",
     "text": [
      "           일시  평균 기온  최대 풍속  평균 풍속\n",
      "0  2010-08-01   28.7    8.3    3.4\n",
      "1  2010-08-02   25.2    8.7    3.8\n",
      "2  2010-08-03   22.1    6.3    2.9\n",
      "3  2010-08-04   25.3    6.6    4.2\n",
      "4  2010-08-05   27.2    9.1    5.6\n"
     ]
    }
   ],
   "source": [
    "import numpy as np\n",
    "import pandas as pd\n",
    "\n",
    "path = 'https://raw.githubusercontent.com/dongupak/BigDataAnalysis/main/'\n",
    "wdf = pd.read_csv(path+'weather.csv', encoding='UTF-8')\n",
    "print(wdf.head())"
   ]
  },
  {
   "cell_type": "code",
   "execution_count": 5,
   "id": "a077c4fb-356a-4b42-b1ad-26754c987d33",
   "metadata": {},
   "outputs": [
    {
     "name": "stdout",
     "output_type": "stream",
     "text": [
      "            평균 기온  최대 풍속  평균 풍속\n",
      "일시                             \n",
      "2010-08-01   28.7    8.3    3.4\n",
      "2010-08-02   25.2    8.7    3.8\n",
      "2010-08-03   22.1    6.3    2.9\n",
      "2010-08-04   25.3    6.6    4.2\n",
      "2010-08-05   27.2    9.1    5.6\n",
      "            평균 기온  최대 풍속  평균 풍속\n",
      "일시                             \n",
      "2020-07-29   21.6    3.2    1.0\n",
      "2020-07-30   22.9    9.7    2.4\n",
      "2020-07-31   25.7    4.8    2.5\n",
      "             평균 기온        최대 풍속        평균 풍속\n",
      "count  3653.000000  3649.000000  3647.000000\n",
      "mean     12.942102     7.911099     3.936441\n",
      "std       8.538507     3.029862     1.888473\n",
      "min      -9.000000     2.000000     0.200000\n",
      "25%       5.400000     5.700000     2.500000\n",
      "50%      13.800000     7.600000     3.600000\n",
      "75%      20.100000     9.700000     5.000000\n",
      "max      31.300000    26.000000    14.900000\n"
     ]
    }
   ],
   "source": [
    "wdf = pd.read_csv(path+'weather.csv', encoding='UTF-8').set_index('일시')\n",
    "\n",
    "print(wdf.head())\n",
    "print(wdf.tail(3))\n",
    "print(wdf.describe())"
   ]
  },
  {
   "cell_type": "code",
   "execution_count": 16,
   "id": "411c3545-3aa8-4d80-a0eb-e5619e0297fc",
   "metadata": {},
   "outputs": [
    {
     "name": "stdout",
     "output_type": "stream",
     "text": [
      "울릉도의 일일 평균 기온의 최대값 : 31.3\n",
      "울릉도의 일일 평균 풍속의 최대값 : 14.9\n",
      "울릉도의 일일 최대 풍속의 최대값 : 26.0\n",
      "울릉도의 일일 평균 기온의 최소값 : -9.0\n",
      "울릉도의 일일 평균 풍속의 최소값 : 0.2\n",
      "울릉도의 일일 최대 풍속의 최소값 : 2.0\n"
     ]
    }
   ],
   "source": [
    "print(\"울릉도의 일일 평균 기온의 최대값 :\", wdf['평균 기온'].max())\n",
    "print(\"울릉도의 일일 평균 풍속의 최대값 :\", wdf['평균 풍속'].max())\n",
    "print(\"울릉도의 일일 최대 풍속의 최대값 :\", wdf['최대 풍속'].max())\n",
    "print(\"울릉도의 일일 평균 기온의 최소값 :\", wdf['평균 기온'].min())\n",
    "print(\"울릉도의 일일 평균 풍속의 최소값 :\", wdf['평균 풍속'].min())\n",
    "print(\"울릉도의 일일 최대 풍속의 최소값 :\", wdf['최대 풍속'].min())"
   ]
  },
  {
   "cell_type": "code",
   "execution_count": 25,
   "id": "05b8ae61-adb9-49a6-b351-0a80dba9c75c",
   "metadata": {},
   "outputs": [
    {
     "name": "stderr",
     "output_type": "stream",
     "text": [
      "/var/folders/rb/7xh8793n37sffvvdwvzgn1lr0000gn/T/ipykernel_3173/476783063.py:2: SettingWithCopyWarning: \n",
      "A value is trying to be set on a copy of a slice from a DataFrame.\n",
      "Try using .loc[row_indexer,col_indexer] = value instead\n",
      "\n",
      "See the caveats in the documentation: https://pandas.pydata.org/pandas-docs/stable/user_guide/indexing.html#returning-a-view-versus-a-copy\n",
      "  wdf4['month'] = pd.DatetimeIndex(wdf4.index).month\n",
      "/var/folders/rb/7xh8793n37sffvvdwvzgn1lr0000gn/T/ipykernel_3173/476783063.py:3: SettingWithCopyWarning: \n",
      "A value is trying to be set on a copy of a slice from a DataFrame.\n",
      "Try using .loc[row_indexer,col_indexer] = value instead\n",
      "\n",
      "See the caveats in the documentation: https://pandas.pydata.org/pandas-docs/stable/user_guide/indexing.html#returning-a-view-versus-a-copy\n",
      "  wdf4['day'] = pd.DatetimeIndex(wdf4.index).day\n",
      "/var/folders/rb/7xh8793n37sffvvdwvzgn1lr0000gn/T/ipykernel_3173/476783063.py:4: SettingWithCopyWarning: \n",
      "A value is trying to be set on a copy of a slice from a DataFrame.\n",
      "Try using .loc[row_indexer,col_indexer] = value instead\n",
      "\n",
      "See the caveats in the documentation: https://pandas.pydata.org/pandas-docs/stable/user_guide/indexing.html#returning-a-view-versus-a-copy\n",
      "  wdf4['year'] = pd.DatetimeIndex(wdf4.index).year\n"
     ]
    },
    {
     "data": {
      "text/html": [
       "<div>\n",
       "<style scoped>\n",
       "    .dataframe tbody tr th:only-of-type {\n",
       "        vertical-align: middle;\n",
       "    }\n",
       "\n",
       "    .dataframe tbody tr th {\n",
       "        vertical-align: top;\n",
       "    }\n",
       "\n",
       "    .dataframe thead th {\n",
       "        text-align: right;\n",
       "    }\n",
       "</style>\n",
       "<table border=\"1\" class=\"dataframe\">\n",
       "  <thead>\n",
       "    <tr style=\"text-align: right;\">\n",
       "      <th></th>\n",
       "      <th>평균 기온</th>\n",
       "      <th>최대 풍속</th>\n",
       "      <th>평균 풍속</th>\n",
       "      <th>month</th>\n",
       "      <th>day</th>\n",
       "      <th>year</th>\n",
       "    </tr>\n",
       "    <tr>\n",
       "      <th>일시</th>\n",
       "      <th></th>\n",
       "      <th></th>\n",
       "      <th></th>\n",
       "      <th></th>\n",
       "      <th></th>\n",
       "      <th></th>\n",
       "    </tr>\n",
       "  </thead>\n",
       "  <tbody>\n",
       "    <tr>\n",
       "      <th>2010-08-01</th>\n",
       "      <td>28.7</td>\n",
       "      <td>8.3</td>\n",
       "      <td>3.4</td>\n",
       "      <td>8</td>\n",
       "      <td>1</td>\n",
       "      <td>2010</td>\n",
       "    </tr>\n",
       "    <tr>\n",
       "      <th>2010-08-02</th>\n",
       "      <td>25.2</td>\n",
       "      <td>8.7</td>\n",
       "      <td>3.8</td>\n",
       "      <td>8</td>\n",
       "      <td>2</td>\n",
       "      <td>2010</td>\n",
       "    </tr>\n",
       "    <tr>\n",
       "      <th>2010-08-03</th>\n",
       "      <td>22.1</td>\n",
       "      <td>6.3</td>\n",
       "      <td>2.9</td>\n",
       "      <td>8</td>\n",
       "      <td>3</td>\n",
       "      <td>2010</td>\n",
       "    </tr>\n",
       "    <tr>\n",
       "      <th>2010-08-04</th>\n",
       "      <td>25.3</td>\n",
       "      <td>6.6</td>\n",
       "      <td>4.2</td>\n",
       "      <td>8</td>\n",
       "      <td>4</td>\n",
       "      <td>2010</td>\n",
       "    </tr>\n",
       "  </tbody>\n",
       "</table>\n",
       "</div>"
      ],
      "text/plain": [
       "            평균 기온  최대 풍속  평균 풍속  month  day  year\n",
       "일시                                               \n",
       "2010-08-01   28.7    8.3    3.4      8    1  2010\n",
       "2010-08-02   25.2    8.7    3.8      8    2  2010\n",
       "2010-08-03   22.1    6.3    2.9      8    3  2010\n",
       "2010-08-04   25.3    6.6    4.2      8    4  2010"
      ]
     },
     "execution_count": 25,
     "metadata": {},
     "output_type": "execute_result"
    }
   ],
   "source": [
    "wdf4 = wdf.head(4)\n",
    "wdf4['month'] = pd.DatetimeIndex(wdf4.index).month\n",
    "wdf4['day'] = pd.DatetimeIndex(wdf4.index).day\n",
    "wdf4['year'] = pd.DatetimeIndex(wdf4.index).year\n",
    "wdf4.head()"
   ]
  },
  {
   "cell_type": "code",
   "execution_count": null,
   "id": "61881e2a-3325-46b4-8d5b-fcb76744cdba",
   "metadata": {},
   "outputs": [],
   "source": []
  }
 ],
 "metadata": {
  "kernelspec": {
   "display_name": "Python 3 (ipykernel)",
   "language": "python",
   "name": "python3"
  },
  "language_info": {
   "codemirror_mode": {
    "name": "ipython",
    "version": 3
   },
   "file_extension": ".py",
   "mimetype": "text/x-python",
   "name": "python",
   "nbconvert_exporter": "python",
   "pygments_lexer": "ipython3",
   "version": "3.8.19"
  }
 },
 "nbformat": 4,
 "nbformat_minor": 5
}
