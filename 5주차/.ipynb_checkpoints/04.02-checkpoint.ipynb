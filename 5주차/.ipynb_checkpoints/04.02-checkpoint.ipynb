{
 "cells": [
  {
   "cell_type": "markdown",
   "id": "774493c2-8095-45ca-a71d-1c00b1f1f7dd",
   "metadata": {},
   "source": [
    "## 실습 3-1"
   ]
  },
  {
   "cell_type": "code",
   "execution_count": 1,
   "id": "58dd6328-e332-4f26-8217-8a23f3a73a23",
   "metadata": {},
   "outputs": [],
   "source": [
    "import numpy as np"
   ]
  },
  {
   "cell_type": "code",
   "execution_count": 2,
   "id": "bb8fcdff-eccc-4f36-bf7a-5b21144b3e39",
   "metadata": {},
   "outputs": [
    {
     "name": "stdout",
     "output_type": "stream",
     "text": [
      "실습 1: array_a = [0 1 2 3 4 5 6 7 8 9]\n",
      "실습 2: array_b = [0 1 2 3 4 5 6 7 8 9]\n",
      "실습 3: array_c = [0 2 4 6 8]\n",
      "실습 4: \n",
      "array_c의 shape : (5,)\n",
      "array_c의 ndim : 1\n",
      "array_c의 dtype : int64\n",
      "array_c의 size : 5\n",
      "array_c의 itemsize : 8\n"
     ]
    }
   ],
   "source": [
    "array_a = np.array([0, 1, 2, 3, 4, 5, 6, 7, 8, 9])\n",
    "print(f'실습 1: array_a = {array_a}')\n",
    "\n",
    "array_b = np.array(range(10))\n",
    "print(f'실습 2: array_b = {array_b}')\n",
    "\n",
    "array_c = np.array(range(0, 10, 2))\n",
    "print(f'실습 3: array_c = {array_c}')\n",
    "\n",
    "print('실습 4: ')\n",
    "print(f'array_c의 shape : {array_c.shape}')\n",
    "print(f'array_c의 ndim : {array_c.ndim}')\n",
    "print(f'array_c의 dtype : {array_c.dtype}')\n",
    "print(f'array_c의 size : {array_c.size}')\n",
    "print(f'array_c의 itemsize : {array_c.itemsize}')"
   ]
  },
  {
   "cell_type": "markdown",
   "id": "e4aca75e-0b29-4230-828c-99db26c49798",
   "metadata": {},
   "source": [
    "## 실습 3-4"
   ]
  },
  {
   "cell_type": "code",
   "execution_count": 3,
   "id": "bdcd4c71-74b2-4c89-a091-762a0a374dcc",
   "metadata": {},
   "outputs": [
    {
     "name": "stdout",
     "output_type": "stream",
     "text": [
      "x 배열에서  성분을 추출한 결과: ['f' 'f']\n",
      "x 배열에 있는 성분의 수: 2\n"
     ]
    }
   ],
   "source": [
    "x = np.array([['a','f','c','d','c'],['c','f','g','h','d']])\n",
    "\n",
    "result = x[x == 'f']\n",
    "print(f'x 배열에서 'f' 성분을 추출한 결과: {result}')\n",
    "print(f'x 배열에 있는 성분의 수: {result.size}')"
   ]
  },
  {
   "cell_type": "markdown",
   "id": "19e040da-8908-4cc4-b6c7-def49a8a3898",
   "metadata": {},
   "source": [
    "## 실습 3-5"
   ]
  },
  {
   "cell_type": "code",
   "execution_count": 4,
   "id": "0f76a910-dbd2-4ca0-aa76-85ccb777b247",
   "metadata": {},
   "outputs": [
    {
     "name": "stdout",
     "output_type": "stream",
     "text": [
      "환자들의 키: [1.63 1.86 1.63 1.76]\n",
      "환자들의 몸무게: [76. 84. 69. 85.]\n",
      "환자들의 체질량지수: [28.60476495 24.28026361 25.97011555 27.44059917]\n",
      "체질량 지수가 25미만인 값: [24.28026361]\n"
     ]
    }
   ],
   "source": [
    "patients = np.array([[1.63, 1.86, 1.63, 1.76],[76.0, 84.0, 69.0, 85.0]])\n",
    "patients_bmi = patients[1]/patients[0]**2\n",
    "\n",
    "print(f'환자들의 키: {patients[0]}')\n",
    "print(f'환자들의 몸무게: {patients[1]}')\n",
    "print(f'환자들의 체질량지수: {patients_bmi}')\n",
    "print(f'체질량 지수가 25미만인 값: {patients_bmi[patients_bmi < 25]}')"
   ]
  },
  {
   "cell_type": "markdown",
   "id": "e85ba9ec-129f-4da1-be85-21c76eb95595",
   "metadata": {},
   "source": [
    "## 실습 3-7"
   ]
  },
  {
   "cell_type": "code",
   "execution_count": 5,
   "id": "d299e24f-6daf-423e-83c7-55f16bb3b05d",
   "metadata": {},
   "outputs": [
    {
     "name": "stdout",
     "output_type": "stream",
     "text": [
      "몸무게가 75 킬로그램 이상인 환자정보\n",
      "[[ 1.63 76.  ]\n",
      " [ 1.86 84.  ]\n",
      " [ 1.76 85.  ]]\n"
     ]
    }
   ],
   "source": [
    "new_patients = patients.T #넘파이 배열의 전치행렬 구해서 [키, 몸무게] 쌍으로 데이터 변경\n",
    "\n",
    "result = new_patients[new_patients[:, 1] >= 75.0]\n",
    "print(f'몸무게가 75 킬로그램 이상인 환자정보')\n",
    "print(result)"
   ]
  }
 ],
 "metadata": {
  "kernelspec": {
   "display_name": "Python 3 (ipykernel)",
   "language": "python",
   "name": "python3"
  },
  "language_info": {
   "codemirror_mode": {
    "name": "ipython",
    "version": 3
   },
   "file_extension": ".py",
   "mimetype": "text/x-python",
   "name": "python",
   "nbconvert_exporter": "python",
   "pygments_lexer": "ipython3",
   "version": "3.8.19"
  }
 },
 "nbformat": 4,
 "nbformat_minor": 5
}
