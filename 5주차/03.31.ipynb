{
 "cells": [
  {
   "cell_type": "code",
   "execution_count": 1,
   "id": "119b84d3-1e68-4785-ba74-12fc1f2ac1fa",
   "metadata": {},
   "outputs": [],
   "source": [
    "import numpy as np"
   ]
  },
  {
   "cell_type": "code",
   "execution_count": 2,
   "id": "202c172a-0e87-4c4b-bb77-6460063f29c2",
   "metadata": {},
   "outputs": [],
   "source": [
    "# a = np.array([1,2,3])"
   ]
  },
  {
   "cell_type": "code",
   "execution_count": 3,
   "id": "4365a13d-e1c1-4e9b-bd8f-8cfb9e4238f4",
   "metadata": {},
   "outputs": [],
   "source": [
    "# b = np.array([4,5,6])"
   ]
  },
  {
   "cell_type": "code",
   "execution_count": 4,
   "id": "00d07599-c69f-4e19-852c-1a46505f4c85",
   "metadata": {},
   "outputs": [],
   "source": [
    "# print(a+b)\n",
    "# print(a-b)\n",
    "# print(a*b)\n",
    "# print(a/b)\n",
    "# print(2.5*a+b)"
   ]
  },
  {
   "cell_type": "markdown",
   "id": "b628e6d3-d963-4367-a0a3-24b7f00bcb47",
   "metadata": {},
   "source": [
    "## LAB 3-1 ndarray 객체를 생성하고 속성을 알아보자"
   ]
  },
  {
   "cell_type": "code",
   "execution_count": 5,
   "id": "165ea8da-8932-44b3-92c8-a4627fe36913",
   "metadata": {},
   "outputs": [
    {
     "name": "stdout",
     "output_type": "stream",
     "text": [
      "실습1 = [0 1 2 3 4 5 6 7 8 9]\n",
      "실습2 = [0 1 2 3 4 5 6 7 8 9]\n",
      "실습3 = [0 2 4 6 8]\n",
      "실습4 = ((5,), 1, dtype('int64'), 5, 8)\n"
     ]
    }
   ],
   "source": [
    "array_a = np.array([0,1,2,3,4,5,6,7,8,9])\n",
    "array_b = np.array(range(10))\n",
    "array_c = np.array(range(0, 10, 2))\n",
    "\n",
    "print(f'실습1 = {array_a}')\n",
    "print(f'실습2 = {array_b}')\n",
    "print(f'실습3 = {array_c}')\n",
    "print(f'실습4 = {array_c.shape, array_c.ndim, array_c.dtype, array_c.size, array_c.itemsize}')"
   ]
  },
  {
   "cell_type": "markdown",
   "id": "131b54af-34c7-468d-b78c-c7adf05a132d",
   "metadata": {},
   "source": [
    "## LAB 3-2 ndarray 객체의 연산을 수행하자"
   ]
  },
  {
   "cell_type": "code",
   "execution_count": 8,
   "id": "3992b8bf-34b3-4064-abe7-f55039567c07",
   "metadata": {},
   "outputs": [
    {
     "name": "stdout",
     "output_type": "stream",
     "text": [
      "a = [1, 2, 3, 4, 5]\n",
      "np_a = [1 2 3 4 5]\n",
      "np_b = [10 20 30 40 50]\n"
     ]
    }
   ],
   "source": [
    "a = list(range(1, 6))\n",
    "print(f'a = {a}')\n",
    "\n",
    "np_a = np.array(a)\n",
    "print(f'np_a = {np_a}')\n",
    "\n",
    "np_b = np_a * 10\n",
    "print(f'np_b = {np_b}')"
   ]
  },
  {
   "cell_type": "code",
   "execution_count": null,
   "id": "be90bf2e-26ca-47e4-a2ba-8aedb04e9de5",
   "metadata": {},
   "outputs": [],
   "source": []
  }
 ],
 "metadata": {
  "kernelspec": {
   "display_name": "Python 3 (ipykernel)",
   "language": "python",
   "name": "python3"
  },
  "language_info": {
   "codemirror_mode": {
    "name": "ipython",
    "version": 3
   },
   "file_extension": ".py",
   "mimetype": "text/x-python",
   "name": "python",
   "nbconvert_exporter": "python",
   "pygments_lexer": "ipython3",
   "version": "3.8.19"
  }
 },
 "nbformat": 4,
 "nbformat_minor": 5
}
