{
 "cells": [
  {
   "cell_type": "code",
   "execution_count": 1,
   "id": "e8847535-4b0f-4822-b5d3-c9d6717182d7",
   "metadata": {},
   "outputs": [
    {
     "name": "stdout",
     "output_type": "stream",
     "text": [
      "a:[83], b:[4], c:[97], d:[8], e:[7]\n",
      "h_stack: [83  4 97  8  7]\n",
      "h_stack 내림차순: [83  4 97  8  7]\n",
      "평균값: 39.8, 중앙값: 8.0\n",
      "v_stack: [[83]\n",
      " [ 4]\n",
      " [97]\n",
      " [ 8]\n",
      " [ 7]]\n",
      "짝수 번째 행에서 50 이상인 값: [83 97]\n"
     ]
    }
   ],
   "source": [
    "import numpy as np\n",
    "\n",
    "def random_number(seed):\n",
    "    np.random.seed(seed)\n",
    "    return np.array(np.random.randint(1, 101, 1))\n",
    "\n",
    "# 1단계\n",
    "a = random_number(31)\n",
    "b = random_number(717)\n",
    "c = random_number(815)\n",
    "d = random_number(103)\n",
    "e = random_number(109)\n",
    "print(f'a:{a}, b:{b}, c:{c}, d:{d}, e:{e}')\n",
    "\n",
    "# 2단계\n",
    "h_stack = np.array(np.hstack((a,b,c,d,e)))\n",
    "print(f'h_stack: {h_stack}')\n",
    "\n",
    "# 3단계\n",
    "h_stack = np.flip(h_stack[::-1])\n",
    "print(f'h_stack 내림차순: {h_stack}')\n",
    "\n",
    "# 4단계\n",
    "print(f'평균값: {np.mean(h_stack)}, 중앙값: {np.median(h_stack)}')\n",
    "\n",
    "# 5단계\n",
    "v_stack = np.array(np.vstack((a,b,c,d,e)))\n",
    "print(f'v_stack: {v_stack}')\n",
    "\n",
    "# 6단계\n",
    "v_stack_slice = v_stack[0::2][:]\n",
    "passed = v_stack_slice >= 50\n",
    "print(f'짝수 번째 행에서 50 이상인 값: {v_stack_slice[passed]}')"
   ]
  },
  {
   "cell_type": "code",
   "execution_count": null,
   "id": "66f23fe9-0949-4664-8187-323e6e3505d6",
   "metadata": {},
   "outputs": [],
   "source": []
  }
 ],
 "metadata": {
  "kernelspec": {
   "display_name": "Python 3 (ipykernel)",
   "language": "python",
   "name": "python3"
  },
  "language_info": {
   "codemirror_mode": {
    "name": "ipython",
    "version": 3
   },
   "file_extension": ".py",
   "mimetype": "text/x-python",
   "name": "python",
   "nbconvert_exporter": "python",
   "pygments_lexer": "ipython3",
   "version": "3.12.7"
  }
 },
 "nbformat": 4,
 "nbformat_minor": 5
}
