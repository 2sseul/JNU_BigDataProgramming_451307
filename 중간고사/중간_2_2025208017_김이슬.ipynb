{
 "cells": [
  {
   "cell_type": "code",
   "execution_count": 1,
   "id": "3692cbe8-2890-4575-ac30-0bad792e424e",
   "metadata": {},
   "outputs": [
    {
     "name": "stdout",
     "output_type": "stream",
     "text": [
      "  species     island  bill_length_mm  bill_depth_mm  flipper_length_mm  \\\n",
      "0  Adelie  Torgersen            39.1           18.7              181.0   \n",
      "1  Adelie  Torgersen            39.5           17.4              186.0   \n",
      "2  Adelie  Torgersen            40.3           18.0              195.0   \n",
      "3  Adelie  Torgersen             NaN            NaN                NaN   \n",
      "4  Adelie  Torgersen            36.7           19.3              193.0   \n",
      "\n",
      "   body_mass_g     sex  \n",
      "0       3750.0    Male  \n",
      "1       3800.0  Female  \n",
      "2       3250.0  Female  \n",
      "3          NaN     NaN  \n",
      "4       3450.0  Female  \n",
      "           island  bill_length_mm  bill_depth_mm  flipper_length_mm  \\\n",
      "species                                                               \n",
      "Adelie        152             151            151                151   \n",
      "Chinstrap      68              68             68                 68   \n",
      "Gentoo        124             123            123                123   \n",
      "\n",
      "           body_mass_g  sex  \n",
      "species                      \n",
      "Adelie             151  146  \n",
      "Chinstrap           68   68  \n",
      "Gentoo             123  119  \n",
      "(344, 7)\n"
     ]
    }
   ],
   "source": [
    "import seaborn as sns\n",
    "import matplotlib.pyplot as plt\n",
    "\n",
    "# 1단계\n",
    "penguins = sns.load_dataset(\"penguins\")\n",
    "\n",
    "# 2단계\n",
    "print(penguins.head())\n",
    "\n",
    "# 3단계\n",
    "grouped = penguins.groupby('species').agg('count')\n",
    "print(grouped)\n",
    "\n",
    "# 4단계\n",
    "clean_penguins_data = penguins.notnull()\n",
    "print(clean_penguins_data.shape)\n",
    "\n",
    "# 5단계\n"
   ]
  },
  {
   "cell_type": "code",
   "execution_count": null,
   "id": "b1f9de86-7995-4263-a4e9-df496c44dc57",
   "metadata": {},
   "outputs": [],
   "source": []
  }
 ],
 "metadata": {
  "kernelspec": {
   "display_name": "Python 3 (ipykernel)",
   "language": "python",
   "name": "python3"
  },
  "language_info": {
   "codemirror_mode": {
    "name": "ipython",
    "version": 3
   },
   "file_extension": ".py",
   "mimetype": "text/x-python",
   "name": "python",
   "nbconvert_exporter": "python",
   "pygments_lexer": "ipython3",
   "version": "3.12.7"
  }
 },
 "nbformat": 4,
 "nbformat_minor": 5
}
