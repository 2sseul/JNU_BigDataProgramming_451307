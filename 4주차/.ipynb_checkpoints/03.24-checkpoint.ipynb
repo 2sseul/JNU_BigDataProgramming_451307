{
 "cells": [
  {
   "cell_type": "code",
   "execution_count": 1,
   "id": "7bdd2ef7-fc08-4b44-bfb1-7fedf63d2496",
   "metadata": {},
   "outputs": [
    {
     "name": "stdout",
     "output_type": "stream",
     "text": [
      "Hello World\n"
     ]
    }
   ],
   "source": [
    "print('Hello World')"
   ]
  },
  {
   "cell_type": "code",
   "execution_count": 2,
   "id": "9596814c-b50f-4fa0-a9a1-845119af14e5",
   "metadata": {},
   "outputs": [],
   "source": [
    "num = 100"
   ]
  },
  {
   "cell_type": "code",
   "execution_count": 3,
   "id": "4e88f53b-b9d9-4f96-8d25-9c783376b4a2",
   "metadata": {},
   "outputs": [
    {
     "name": "stdout",
     "output_type": "stream",
     "text": [
      "200\n"
     ]
    }
   ],
   "source": [
    "num = num + 100\n",
    "print(num)"
   ]
  },
  {
   "cell_type": "code",
   "execution_count": 5,
   "id": "6a17787b-3b60-4192-9726-9a6ccce56b2f",
   "metadata": {},
   "outputs": [
    {
     "name": "stdout",
     "output_type": "stream",
     "text": [
      "400\n"
     ]
    }
   ],
   "source": [
    "num += 100\n",
    "print(num)"
   ]
  },
  {
   "cell_type": "markdown",
   "id": "268b456e-5e72-49d5-acb7-3d1fa9e1f970",
   "metadata": {},
   "source": [
    "# 마크다운 테스트"
   ]
  },
  {
   "cell_type": "markdown",
   "id": "7a6b978c-3f45-4f26-adb3-6944c7046434",
   "metadata": {},
   "source": [
    "- 자신의 이름과 소속, 이메일 주소를 출력하자"
   ]
  },
  {
   "cell_type": "code",
   "execution_count": 6,
   "id": "8dc2c693-e07c-4ad1-816b-e0a914bc8f50",
   "metadata": {},
   "outputs": [
    {
     "name": "stdout",
     "output_type": "stream",
     "text": [
      "이름: 김이슬\n",
      "소속: 제주대학교 컴퓨터공학과\n",
      "이메일: memo-_-a@naver.com\n"
     ]
    }
   ],
   "source": [
    "print('이름: 김이슬')\n",
    "print('소속: 제주대학교 컴퓨터공학과')\n",
    "print('이메일: memo-_-a@naver.com')"
   ]
  },
  {
   "cell_type": "code",
   "execution_count": null,
   "id": "ba692403-5103-4293-9f9a-9513a15eaa8e",
   "metadata": {},
   "outputs": [],
   "source": []
  }
 ],
 "metadata": {
  "kernelspec": {
   "display_name": "Python 3 (ipykernel)",
   "language": "python",
   "name": "python3"
  },
  "language_info": {
   "codemirror_mode": {
    "name": "ipython",
    "version": 3
   },
   "file_extension": ".py",
   "mimetype": "text/x-python",
   "name": "python",
   "nbconvert_exporter": "python",
   "pygments_lexer": "ipython3",
   "version": "3.8.19"
  }
 },
 "nbformat": 4,
 "nbformat_minor": 5
}
