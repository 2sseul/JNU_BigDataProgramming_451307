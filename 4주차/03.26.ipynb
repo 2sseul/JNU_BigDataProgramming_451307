{
 "cells": [
  {
   "cell_type": "code",
   "execution_count": 1,
   "id": "cad6eee2-e309-4f0b-9cd9-72ba512f9b80",
   "metadata": {},
   "outputs": [],
   "source": [
    "import numpy as np"
   ]
  },
  {
   "cell_type": "code",
   "execution_count": 2,
   "id": "977bca10-babc-4f79-b09d-8472af254d2b",
   "metadata": {},
   "outputs": [
    {
     "data": {
      "text/plain": [
       "((3,), 1, dtype('int64'), 8, 3)"
      ]
     },
     "execution_count": 2,
     "metadata": {},
     "output_type": "execute_result"
    }
   ],
   "source": [
    "# 넘파이 ndarray 객체 생성\n",
    "a = np.array([2,3,4])\n",
    "\n",
    "# a 객체의 형상(shape), 차원, 요소의 자료형, 요소의 크기(byte), 요소의 수\n",
    "a.shape, a.ndim, a.dtype, a.itemsize, a.size"
   ]
  },
  {
   "cell_type": "code",
   "execution_count": 3,
   "id": "258b6692-9900-439b-b8f5-cce53fcb3a7e",
   "metadata": {},
   "outputs": [
    {
     "data": {
      "text/plain": [
       "(2, 3)"
      ]
     },
     "execution_count": 3,
     "metadata": {},
     "output_type": "execute_result"
    }
   ],
   "source": [
    "b = np.array([[1,2,3],[4,5,6]])\n",
    "# 2행 3열의 배열\n",
    "b.shape"
   ]
  },
  {
   "cell_type": "code",
   "execution_count": 7,
   "id": "c2b2cceb-5e4f-4600-b4f0-149d77937011",
   "metadata": {},
   "outputs": [
    {
     "data": {
      "text/plain": [
       "array([11, 22, 33])"
      ]
     },
     "execution_count": 7,
     "metadata": {},
     "output_type": "execute_result"
    }
   ],
   "source": [
    "# c,d라는 ndarray객체가 있을 때, 이 두 객체에 사칙연산을 적용\n",
    "c = np.array([10, 20, 30])\n",
    "d = np.array([1, 2, 3])\n",
    "c + d"
   ]
  },
  {
   "cell_type": "code",
   "execution_count": 8,
   "id": "f1f119e7-7bae-48a7-b51f-9c9255a19137",
   "metadata": {},
   "outputs": [
    {
     "data": {
      "text/plain": [
       "array([ 9, 18, 27])"
      ]
     },
     "execution_count": 8,
     "metadata": {},
     "output_type": "execute_result"
    }
   ],
   "source": [
    "c - d"
   ]
  },
  {
   "cell_type": "code",
   "execution_count": 9,
   "id": "d4245348-862f-4a64-b9df-13eb318f18d0",
   "metadata": {},
   "outputs": [
    {
     "data": {
      "text/plain": [
       "array([10, 40, 90])"
      ]
     },
     "execution_count": 9,
     "metadata": {},
     "output_type": "execute_result"
    }
   ],
   "source": [
    "c * d"
   ]
  },
  {
   "cell_type": "code",
   "execution_count": 10,
   "id": "de79f066-e4bf-418f-abc5-2cdcf54088b0",
   "metadata": {},
   "outputs": [
    {
     "data": {
      "text/plain": [
       "array([10., 10., 10.])"
      ]
     },
     "execution_count": 10,
     "metadata": {},
     "output_type": "execute_result"
    }
   ],
   "source": [
    "c / d"
   ]
  }
 ],
 "metadata": {
  "kernelspec": {
   "display_name": "Python 3 (ipykernel)",
   "language": "python",
   "name": "python3"
  },
  "language_info": {
   "codemirror_mode": {
    "name": "ipython",
    "version": 3
   },
   "file_extension": ".py",
   "mimetype": "text/x-python",
   "name": "python",
   "nbconvert_exporter": "python",
   "pygments_lexer": "ipython3",
   "version": "3.8.19"
  }
 },
 "nbformat": 4,
 "nbformat_minor": 5
}
