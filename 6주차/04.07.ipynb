{
 "cells": [
  {
   "cell_type": "markdown",
   "id": "d97f2929-92ff-4df9-a086-03424e9f6c22",
   "metadata": {},
   "source": [
    "## 4-1"
   ]
  },
  {
   "cell_type": "code",
   "execution_count": 1,
   "id": "8fde353b-a1f2-467b-b684-5d919a82f11b",
   "metadata": {},
   "outputs": [],
   "source": [
    "import numpy as np"
   ]
  },
  {
   "cell_type": "code",
   "execution_count": 3,
   "id": "f569e608-abb8-44a1-b9c8-e30d26412fb8",
   "metadata": {},
   "outputs": [
    {
     "name": "stdin",
     "output_type": "stream",
     "text": [
      "정수를 입력하시오:  1 2 3 4 5\n"
     ]
    }
   ],
   "source": [
    "arr = list(map(int, input('정수를 입력하시오: ').split()))\n",
    "a = np.array(arr)"
   ]
  },
  {
   "cell_type": "code",
   "execution_count": 6,
   "id": "ead14ed5-1577-4e7b-99bc-7e49c6b76860",
   "metadata": {},
   "outputs": [
    {
     "name": "stdout",
     "output_type": "stream",
     "text": [
      "입력값들의 합: 15\n",
      "최대값: 5\n",
      "최소값: 1\n",
      "평균값: 3.0\n"
     ]
    }
   ],
   "source": [
    "print(f'입력값들의 합: {np.sum(a)}')\n",
    "print(f'최대값: {np.max(a)}')\n",
    "print(f'최소값: {np.min(a)}')\n",
    "print(f'평균값: {np.mean(a)}')"
   ]
  },
  {
   "cell_type": "markdown",
   "id": "2295dbaa-85dd-4332-a7a4-0243a440b4a6",
   "metadata": {},
   "source": [
    "## 4-2"
   ]
  },
  {
   "cell_type": "code",
   "execution_count": 12,
   "id": "279e8c06-e2c4-43b5-906a-de7be659d5aa",
   "metadata": {},
   "outputs": [
    {
     "name": "stdout",
     "output_type": "stream",
     "text": [
      "환자들의 키의 평균: 1.72\n",
      "키를 크기 순으로 정렬: [1.63 1.63 1.76 1.86]\n",
      "환자들의 몸무게의 평균: 78.5\n",
      "몸무게를 크기 순으로 정렬: [69. 76. 84. 85.]\n"
     ]
    }
   ],
   "source": [
    "patients = np.array([[1.63, 1.86, 1.63, 1.76],[76.0, 84.0, 69.0, 85.0]])\n",
    "\n",
    "heights = patients[0]\n",
    "weights = patients[1]\n",
    "\n",
    "print(f'환자들의 키의 평균: {np.mean(heights)}')\n",
    "print(f'키를 크기 순으로 정렬: {np.sort(heights)}')\n",
    "print(f'환자들의 몸무게의 평균: {np.mean(weights)}')\n",
    "print(f'몸무게를 크기 순으로 정렬: {np.sort(weights)}')"
   ]
  },
  {
   "cell_type": "markdown",
   "id": "23a728be-9c06-489d-a285-4d7944c90fe2",
   "metadata": {},
   "source": [
    "## 4-3"
   ]
  },
  {
   "cell_type": "code",
   "execution_count": 13,
   "id": "df87b49c-eb84-42c4-8211-b5d7757eb800",
   "metadata": {},
   "outputs": [
    {
     "name": "stdin",
     "output_type": "stream",
     "text": [
      "정수를 입력하시오:  3 6 8 2 10 4 1\n"
     ]
    },
    {
     "name": "stdout",
     "output_type": "stream",
     "text": [
      "평균: 4.857142857142857\n",
      "분산: 9.265306122448978\n",
      "표준편차: 3.043896536094645\n"
     ]
    }
   ],
   "source": [
    "arr = list(map(int, input('정수를 입력하시오: ').split()))\n",
    "\n",
    "print(f'평균: {np.mean(arr)}')\n",
    "print(f'분산: {np.var(arr)}')\n",
    "print(f'표준편차: {np.std(arr)}')"
   ]
  },
  {
   "cell_type": "markdown",
   "id": "36002ac5-3a36-45c4-aca0-a5a87be914b4",
   "metadata": {},
   "source": [
    "## 4-4"
   ]
  },
  {
   "cell_type": "code",
   "execution_count": 24,
   "id": "915ee06e-1847-4155-a3b4-65a775d8c699",
   "metadata": {},
   "outputs": [
    {
     "name": "stdout",
     "output_type": "stream",
     "text": [
      "A 모둠의 분산: 136.6875\n",
      "B 모둠의 분산: 3.6875\n",
      "C 모둠의 분산: 80.6875\n",
      "D 모둠의 분산: 102.6875\n",
      "분산이 가장 작은 모둠은 B 이며 분산은 3.6875\n",
      "분산이 가장 큰 모둠은 A 이며 분산은 136.6875\n"
     ]
    }
   ],
   "source": [
    "A = np.array([153, 186, 168, 170])\n",
    "B = np.array([173, 175, 171, 176])\n",
    "C = np.array([167, 189, 177, 188])\n",
    "D = np.array([178, 154, 179, 174])\n",
    "\n",
    "print(f'A 모둠의 분산: {np.var(A)}')\n",
    "print(f'B 모둠의 분산: {np.var(B)}')\n",
    "print(f'C 모둠의 분산: {np.var(C)}')\n",
    "print(f'D 모둠의 분산: {np.var(D)}')\n",
    "\n",
    "dic = {'A': np.var(A), 'B': np.var(B), 'C': np.var(C), 'D': np.var(D)}\n",
    "new_dic = sorted(dic.items(), key = lambda x: x[1])\n",
    "\n",
    "print(f'분산이 가장 작은 모둠은 {new_dic[0][0]} 이며 분산은 {new_dic[0][1]}')\n",
    "print(f'분산이 가장 큰 모둠은 {new_dic[3][0]} 이며 분산은 {new_dic[3][1]}')"
   ]
  },
  {
   "cell_type": "markdown",
   "id": "e094dbbc-65a6-486e-aa93-14973c26a055",
   "metadata": {},
   "source": [
    "## 4-5"
   ]
  },
  {
   "cell_type": "code",
   "execution_count": 26,
   "id": "14cfa22c-d2ae-4d80-84a1-f5c525cbe8e4",
   "metadata": {},
   "outputs": [
    {
     "name": "stdout",
     "output_type": "stream",
     "text": [
      "이번 주의 추천 로또번호: [14 19 28 34 35 30]\n"
     ]
    }
   ],
   "source": [
    "a = np.arange(1, 46)\n",
    "\n",
    "np.random.shuffle(a)\n",
    "print(f'이번 주의 추천 로또번호: {a[:6]}')"
   ]
  },
  {
   "cell_type": "code",
   "execution_count": null,
   "id": "6e2370b0-6630-45e7-acc2-a6ac7f4bea2b",
   "metadata": {},
   "outputs": [],
   "source": []
  }
 ],
 "metadata": {
  "kernelspec": {
   "display_name": "Python 3 (ipykernel)",
   "language": "python",
   "name": "python3"
  },
  "language_info": {
   "codemirror_mode": {
    "name": "ipython",
    "version": 3
   },
   "file_extension": ".py",
   "mimetype": "text/x-python",
   "name": "python",
   "nbconvert_exporter": "python",
   "pygments_lexer": "ipython3",
   "version": "3.8.19"
  }
 },
 "nbformat": 4,
 "nbformat_minor": 5
}
