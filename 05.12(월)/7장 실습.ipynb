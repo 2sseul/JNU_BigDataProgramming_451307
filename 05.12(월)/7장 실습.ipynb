{
 "cells": [
  {
   "cell_type": "markdown",
   "id": "9b46c318-36ba-4df1-b7fe-a01ede080f13",
   "metadata": {},
   "source": [
    "# 7-1"
   ]
  },
  {
   "cell_type": "code",
   "execution_count": 1,
   "id": "dadeffe2-f680-4f87-84dd-77a3bb3d652f",
   "metadata": {},
   "outputs": [],
   "source": [
    "import pandas as pd\n",
    "import numpy as np"
   ]
  },
  {
   "cell_type": "code",
   "execution_count": 2,
   "id": "8387b0d9-8711-4ece-9d65-3e270af8e25e",
   "metadata": {},
   "outputs": [
    {
     "data": {
      "text/html": [
       "<div>\n",
       "<style scoped>\n",
       "    .dataframe tbody tr th:only-of-type {\n",
       "        vertical-align: middle;\n",
       "    }\n",
       "\n",
       "    .dataframe tbody tr th {\n",
       "        vertical-align: top;\n",
       "    }\n",
       "\n",
       "    .dataframe thead th {\n",
       "        text-align: right;\n",
       "    }\n",
       "</style>\n",
       "<table border=\"1\" class=\"dataframe\">\n",
       "  <thead>\n",
       "    <tr style=\"text-align: right;\">\n",
       "      <th></th>\n",
       "      <th>이름</th>\n",
       "      <th>국어</th>\n",
       "      <th>수학</th>\n",
       "      <th>과학</th>\n",
       "    </tr>\n",
       "    <tr>\n",
       "      <th>학번</th>\n",
       "      <th></th>\n",
       "      <th></th>\n",
       "      <th></th>\n",
       "      <th></th>\n",
       "    </tr>\n",
       "  </thead>\n",
       "  <tbody>\n",
       "    <tr>\n",
       "      <th>251101</th>\n",
       "      <td>홍길동</td>\n",
       "      <td>90</td>\n",
       "      <td>90</td>\n",
       "      <td>60</td>\n",
       "    </tr>\n",
       "    <tr>\n",
       "      <th>251102</th>\n",
       "      <td>홍길순</td>\n",
       "      <td>85</td>\n",
       "      <td>90</td>\n",
       "      <td>80</td>\n",
       "    </tr>\n",
       "    <tr>\n",
       "      <th>251103</th>\n",
       "      <td>이철수</td>\n",
       "      <td>50</td>\n",
       "      <td>70</td>\n",
       "      <td>90</td>\n",
       "    </tr>\n",
       "    <tr>\n",
       "      <th>251104</th>\n",
       "      <td>김영희</td>\n",
       "      <td>80</td>\n",
       "      <td>60</td>\n",
       "      <td>70</td>\n",
       "    </tr>\n",
       "    <tr>\n",
       "      <th>251105</th>\n",
       "      <td>정선아</td>\n",
       "      <td>80</td>\n",
       "      <td>78</td>\n",
       "      <td>76</td>\n",
       "    </tr>\n",
       "    <tr>\n",
       "      <th>251106</th>\n",
       "      <td>이정민</td>\n",
       "      <td>80</td>\n",
       "      <td>100</td>\n",
       "      <td>90</td>\n",
       "    </tr>\n",
       "    <tr>\n",
       "      <th>251107</th>\n",
       "      <td>박동윤</td>\n",
       "      <td>70</td>\n",
       "      <td>75</td>\n",
       "      <td>80</td>\n",
       "    </tr>\n",
       "  </tbody>\n",
       "</table>\n",
       "</div>"
      ],
      "text/plain": [
       "         이름  국어   수학  과학\n",
       "학번                      \n",
       "251101  홍길동  90   90  60\n",
       "251102  홍길순  85   90  80\n",
       "251103  이철수  50   70  90\n",
       "251104  김영희  80   60  70\n",
       "251105  정선아  80   78  76\n",
       "251106  이정민  80  100  90\n",
       "251107  박동윤  70   75  80"
      ]
     },
     "execution_count": 2,
     "metadata": {},
     "output_type": "execute_result"
    }
   ],
   "source": [
    "path = 'https://raw.githubusercontent.com/dongupak/BigDataAnalysis/main/'\n",
    "df = pd.read_csv(path+'scores.csv', encoding='UTF-8', index_col=0)\n",
    "df"
   ]
  },
  {
   "cell_type": "markdown",
   "id": "b214536d-d885-4527-9f34-7fd03289246e",
   "metadata": {},
   "source": [
    "# 7-2"
   ]
  },
  {
   "cell_type": "code",
   "execution_count": 6,
   "id": "dd963083-ef46-49a0-961e-919a1784acdd",
   "metadata": {},
   "outputs": [
    {
     "name": "stdout",
     "output_type": "stream",
     "text": [
      "0    토끼\n",
      "1    여우\n",
      "2     곰\n",
      "3    하마\n",
      "4    사자\n",
      "dtype: object\n",
      "a    토끼\n",
      "b    여우\n",
      "c     곰\n",
      "d    하마\n",
      "e    사자\n",
      "dtype: object\n"
     ]
    }
   ],
   "source": [
    "pd_animals = pd.Series(['토끼','여우','곰','하마','사자'])\n",
    "print(pd_animals)\n",
    "pd_animals2 = pd.Series(['토끼','여우','곰','하마','사자'], index=list('abcde'))\n",
    "print(pd_animals2)"
   ]
  },
  {
   "cell_type": "markdown",
   "id": "c815f946-6123-4a27-87ce-9d8ef19e3622",
   "metadata": {},
   "source": [
    "# 7-3"
   ]
  },
  {
   "cell_type": "code",
   "execution_count": 12,
   "id": "4b35502e-97fe-485c-8915-324b6f9b7718",
   "metadata": {},
   "outputs": [],
   "source": [
    "id_series = pd.Series([251101, 251102, 251103, 251104])\n",
    "name_series= pd.Series(['홍길동', '홍길순', '이철수', '김영희'])\n",
    "kor_series = pd.Series([90, 85, 50, 801]) # 국어 점수\n",
    "math_series = pd.Series([90, 90, 70, 601]) # 수학 점수\n",
    "sci_series = pd.Series([60, 80, 90, 701]) # 과학 점수\n",
    "eng_series = pd.Series([75, 80, 70, 601]) # 영어 점수"
   ]
  },
  {
   "cell_type": "code",
   "execution_count": 15,
   "id": "42ad9664-c929-4b41-8e12-08da7e4cddb6",
   "metadata": {},
   "outputs": [
    {
     "data": {
      "text/html": [
       "<div>\n",
       "<style scoped>\n",
       "    .dataframe tbody tr th:only-of-type {\n",
       "        vertical-align: middle;\n",
       "    }\n",
       "\n",
       "    .dataframe tbody tr th {\n",
       "        vertical-align: top;\n",
       "    }\n",
       "\n",
       "    .dataframe thead th {\n",
       "        text-align: right;\n",
       "    }\n",
       "</style>\n",
       "<table border=\"1\" class=\"dataframe\">\n",
       "  <thead>\n",
       "    <tr style=\"text-align: right;\">\n",
       "      <th></th>\n",
       "      <th>이름</th>\n",
       "      <th>국어</th>\n",
       "      <th>수학</th>\n",
       "      <th>과학</th>\n",
       "      <th>영어</th>\n",
       "    </tr>\n",
       "  </thead>\n",
       "  <tbody>\n",
       "    <tr>\n",
       "      <th>251101</th>\n",
       "      <td>홍길동</td>\n",
       "      <td>90</td>\n",
       "      <td>90</td>\n",
       "      <td>60</td>\n",
       "      <td>75</td>\n",
       "    </tr>\n",
       "    <tr>\n",
       "      <th>251102</th>\n",
       "      <td>홍길순</td>\n",
       "      <td>85</td>\n",
       "      <td>90</td>\n",
       "      <td>80</td>\n",
       "      <td>80</td>\n",
       "    </tr>\n",
       "    <tr>\n",
       "      <th>251103</th>\n",
       "      <td>이철수</td>\n",
       "      <td>50</td>\n",
       "      <td>70</td>\n",
       "      <td>90</td>\n",
       "      <td>70</td>\n",
       "    </tr>\n",
       "    <tr>\n",
       "      <th>251104</th>\n",
       "      <td>김영희</td>\n",
       "      <td>801</td>\n",
       "      <td>601</td>\n",
       "      <td>701</td>\n",
       "      <td>601</td>\n",
       "    </tr>\n",
       "  </tbody>\n",
       "</table>\n",
       "</div>"
      ],
      "text/plain": [
       "         이름   국어   수학   과학   영어\n",
       "251101  홍길동   90   90   60   75\n",
       "251102  홍길순   85   90   80   80\n",
       "251103  이철수   50   70   90   70\n",
       "251104  김영희  801  601  701  601"
      ]
     },
     "execution_count": 15,
     "metadata": {},
     "output_type": "execute_result"
    }
   ],
   "source": [
    "student_df = pd.DataFrame({'이름': name_series, '국어': kor_series, '수학': math_series, '과학': sci_series, '영어': eng_series}).set_index(id_series)\n",
    "student_df"
   ]
  },
  {
   "cell_type": "markdown",
   "id": "593b3fc9-f97e-4bd9-8bba-bb1e36817364",
   "metadata": {},
   "source": [
    "# 7-4"
   ]
  },
  {
   "cell_type": "code",
   "execution_count": 18,
   "id": "d0229076-aaf8-4589-a1fb-ad60b02af4f8",
   "metadata": {},
   "outputs": [
    {
     "data": {
      "text/plain": [
       "이름    홍길동\n",
       "국어     90\n",
       "수학     90\n",
       "과학     60\n",
       "영어     75\n",
       "Name: 251101, dtype: object"
      ]
     },
     "execution_count": 18,
     "metadata": {},
     "output_type": "execute_result"
    }
   ],
   "source": [
    "student_df.loc[251101]"
   ]
  },
  {
   "cell_type": "code",
   "execution_count": 21,
   "id": "8c544e36-c0d9-4a7d-9223-942f4210b869",
   "metadata": {},
   "outputs": [
    {
     "data": {
      "text/plain": [
       "이름    홍길동\n",
       "국어     90\n",
       "수학     90\n",
       "과학     60\n",
       "영어     75\n",
       "Name: 251101, dtype: object"
      ]
     },
     "execution_count": 21,
     "metadata": {},
     "output_type": "execute_result"
    }
   ],
   "source": [
    "student_df.iloc[0]"
   ]
  },
  {
   "cell_type": "code",
   "execution_count": 22,
   "id": "f065ef2a-3202-4a24-91a3-56bf77dd75c9",
   "metadata": {},
   "outputs": [
    {
     "data": {
      "text/html": [
       "<div>\n",
       "<style scoped>\n",
       "    .dataframe tbody tr th:only-of-type {\n",
       "        vertical-align: middle;\n",
       "    }\n",
       "\n",
       "    .dataframe tbody tr th {\n",
       "        vertical-align: top;\n",
       "    }\n",
       "\n",
       "    .dataframe thead th {\n",
       "        text-align: right;\n",
       "    }\n",
       "</style>\n",
       "<table border=\"1\" class=\"dataframe\">\n",
       "  <thead>\n",
       "    <tr style=\"text-align: right;\">\n",
       "      <th></th>\n",
       "      <th>이름</th>\n",
       "      <th>국어</th>\n",
       "      <th>수학</th>\n",
       "      <th>과학</th>\n",
       "      <th>영어</th>\n",
       "    </tr>\n",
       "  </thead>\n",
       "  <tbody>\n",
       "    <tr>\n",
       "      <th>251101</th>\n",
       "      <td>홍길동</td>\n",
       "      <td>90</td>\n",
       "      <td>90</td>\n",
       "      <td>60</td>\n",
       "      <td>75</td>\n",
       "    </tr>\n",
       "    <tr>\n",
       "      <th>251102</th>\n",
       "      <td>홍길순</td>\n",
       "      <td>85</td>\n",
       "      <td>90</td>\n",
       "      <td>80</td>\n",
       "      <td>80</td>\n",
       "    </tr>\n",
       "    <tr>\n",
       "      <th>251103</th>\n",
       "      <td>이철수</td>\n",
       "      <td>50</td>\n",
       "      <td>70</td>\n",
       "      <td>90</td>\n",
       "      <td>70</td>\n",
       "    </tr>\n",
       "  </tbody>\n",
       "</table>\n",
       "</div>"
      ],
      "text/plain": [
       "         이름  국어  수학  과학  영어\n",
       "251101  홍길동  90  90  60  75\n",
       "251102  홍길순  85  90  80  80\n",
       "251103  이철수  50  70  90  70"
      ]
     },
     "execution_count": 22,
     "metadata": {},
     "output_type": "execute_result"
    }
   ],
   "source": [
    "student_df.loc[251101:251103]"
   ]
  },
  {
   "cell_type": "code",
   "execution_count": 23,
   "id": "f174d8c2-b4c8-4d48-99f6-52fd2b21a7a0",
   "metadata": {},
   "outputs": [
    {
     "data": {
      "text/html": [
       "<div>\n",
       "<style scoped>\n",
       "    .dataframe tbody tr th:only-of-type {\n",
       "        vertical-align: middle;\n",
       "    }\n",
       "\n",
       "    .dataframe tbody tr th {\n",
       "        vertical-align: top;\n",
       "    }\n",
       "\n",
       "    .dataframe thead th {\n",
       "        text-align: right;\n",
       "    }\n",
       "</style>\n",
       "<table border=\"1\" class=\"dataframe\">\n",
       "  <thead>\n",
       "    <tr style=\"text-align: right;\">\n",
       "      <th></th>\n",
       "      <th>이름</th>\n",
       "      <th>국어</th>\n",
       "      <th>수학</th>\n",
       "      <th>과학</th>\n",
       "      <th>영어</th>\n",
       "    </tr>\n",
       "  </thead>\n",
       "  <tbody>\n",
       "    <tr>\n",
       "      <th>251101</th>\n",
       "      <td>홍길동</td>\n",
       "      <td>90</td>\n",
       "      <td>90</td>\n",
       "      <td>60</td>\n",
       "      <td>75</td>\n",
       "    </tr>\n",
       "    <tr>\n",
       "      <th>251102</th>\n",
       "      <td>홍길순</td>\n",
       "      <td>85</td>\n",
       "      <td>90</td>\n",
       "      <td>80</td>\n",
       "      <td>80</td>\n",
       "    </tr>\n",
       "    <tr>\n",
       "      <th>251103</th>\n",
       "      <td>이철수</td>\n",
       "      <td>50</td>\n",
       "      <td>70</td>\n",
       "      <td>90</td>\n",
       "      <td>70</td>\n",
       "    </tr>\n",
       "  </tbody>\n",
       "</table>\n",
       "</div>"
      ],
      "text/plain": [
       "         이름  국어  수학  과학  영어\n",
       "251101  홍길동  90  90  60  75\n",
       "251102  홍길순  85  90  80  80\n",
       "251103  이철수  50  70  90  70"
      ]
     },
     "execution_count": 23,
     "metadata": {},
     "output_type": "execute_result"
    }
   ],
   "source": [
    "student_df.iloc[0:3]"
   ]
  },
  {
   "cell_type": "code",
   "execution_count": null,
   "id": "3de852a7-6b45-4fa7-8908-4ec52fae0b37",
   "metadata": {},
   "outputs": [],
   "source": []
  }
 ],
 "metadata": {
  "kernelspec": {
   "display_name": "Python 3 (ipykernel)",
   "language": "python",
   "name": "python3"
  },
  "language_info": {
   "codemirror_mode": {
    "name": "ipython",
    "version": 3
   },
   "file_extension": ".py",
   "mimetype": "text/x-python",
   "name": "python",
   "nbconvert_exporter": "python",
   "pygments_lexer": "ipython3",
   "version": "3.8.19"
  }
 },
 "nbformat": 4,
 "nbformat_minor": 5
}
