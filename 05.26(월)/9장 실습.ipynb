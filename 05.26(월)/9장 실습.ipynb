{
 "cells": [
  {
   "cell_type": "code",
   "execution_count": 2,
   "id": "16d8bd8d-90d3-4e21-9185-d27b7538c32c",
   "metadata": {},
   "outputs": [],
   "source": [
    "import pandas as pd\n",
    "import numpy as np"
   ]
  },
  {
   "cell_type": "code",
   "execution_count": 21,
   "id": "91c4e6ce-f464-485b-9133-ca4413d4123d",
   "metadata": {},
   "outputs": [
    {
     "data": {
      "text/html": [
       "<div>\n",
       "<style scoped>\n",
       "    .dataframe tbody tr th:only-of-type {\n",
       "        vertical-align: middle;\n",
       "    }\n",
       "\n",
       "    .dataframe tbody tr th {\n",
       "        vertical-align: top;\n",
       "    }\n",
       "\n",
       "    .dataframe thead th {\n",
       "        text-align: right;\n",
       "    }\n",
       "</style>\n",
       "<table border=\"1\" class=\"dataframe\">\n",
       "  <thead>\n",
       "    <tr style=\"text-align: right;\">\n",
       "      <th></th>\n",
       "      <th>store A</th>\n",
       "      <th>store B</th>\n",
       "      <th>store C</th>\n",
       "      <th>store D</th>\n",
       "    </tr>\n",
       "  </thead>\n",
       "  <tbody>\n",
       "    <tr>\n",
       "      <th>carrot</th>\n",
       "      <td>1</td>\n",
       "      <td>2</td>\n",
       "      <td>3</td>\n",
       "      <td>4</td>\n",
       "    </tr>\n",
       "    <tr>\n",
       "      <th>pepper</th>\n",
       "      <td>5</td>\n",
       "      <td>6</td>\n",
       "      <td>7</td>\n",
       "      <td>8</td>\n",
       "    </tr>\n",
       "    <tr>\n",
       "      <th>onion</th>\n",
       "      <td>9</td>\n",
       "      <td>10</td>\n",
       "      <td>11</td>\n",
       "      <td>12</td>\n",
       "    </tr>\n",
       "  </tbody>\n",
       "</table>\n",
       "</div>"
      ],
      "text/plain": [
       "        store A  store B  store C  store D\n",
       "carrot        1        2        3        4\n",
       "pepper        5        6        7        8\n",
       "onion         9       10       11       12"
      ]
     },
     "execution_count": 21,
     "metadata": {},
     "output_type": "execute_result"
    }
   ],
   "source": [
    "df = pd.DataFrame(np.arange(1,13).reshape((3,4)),\n",
    "            index = ['당근', '고추', '양파'],\n",
    "            columns = ['상점_A', '상점_B', '상점_C', '상점_D'])\n",
    "\n",
    "new_df = df.rename(index={\"당근\":\"carrot\", \"고추\":\"pepper\", \"양파\":\"onion\"},\n",
    "          columns = {'상점_A':\"store A\", '상점_B':\"store B\", '상점_C':\"store C\", '상점_D':\"store D\"})\n",
    "new_df"
   ]
  },
  {
   "cell_type": "code",
   "execution_count": 20,
   "id": "f4bd8841-0163-46f0-9119-23774dd448cc",
   "metadata": {},
   "outputs": [
    {
     "data": {
      "text/html": [
       "<div>\n",
       "<style scoped>\n",
       "    .dataframe tbody tr th:only-of-type {\n",
       "        vertical-align: middle;\n",
       "    }\n",
       "\n",
       "    .dataframe tbody tr th {\n",
       "        vertical-align: top;\n",
       "    }\n",
       "\n",
       "    .dataframe thead th {\n",
       "        text-align: right;\n",
       "    }\n",
       "</style>\n",
       "<table border=\"1\" class=\"dataframe\">\n",
       "  <thead>\n",
       "    <tr style=\"text-align: right;\">\n",
       "      <th></th>\n",
       "      <th>채소</th>\n",
       "      <th>가격</th>\n",
       "    </tr>\n",
       "  </thead>\n",
       "  <tbody>\n",
       "    <tr>\n",
       "      <th>2</th>\n",
       "      <td>당근</td>\n",
       "      <td>5600</td>\n",
       "    </tr>\n",
       "    <tr>\n",
       "      <th>3</th>\n",
       "      <td>가지</td>\n",
       "      <td>3200</td>\n",
       "    </tr>\n",
       "    <tr>\n",
       "      <th>4</th>\n",
       "      <td>감자</td>\n",
       "      <td>4500</td>\n",
       "    </tr>\n",
       "    <tr>\n",
       "      <th>5</th>\n",
       "      <td>양파</td>\n",
       "      <td>2400</td>\n",
       "    </tr>\n",
       "  </tbody>\n",
       "</table>\n",
       "</div>"
      ],
      "text/plain": [
       "   채소    가격\n",
       "2  당근  5600\n",
       "3  가지  3200\n",
       "4  감자  4500\n",
       "5  양파  2400"
      ]
     },
     "execution_count": 20,
     "metadata": {},
     "output_type": "execute_result"
    }
   ],
   "source": [
    "data = [[\"양파\", 6400], [\"감자\", 3400], [\"당근\", 5600], [\"가지\", 3200], [\"감자\", 4500], [\"양파\", 2400]]\n",
    "vegetables = [x[0] for x in data]\n",
    "prices = [x[1] for x in data]\n",
    "\n",
    "df = pd.DataFrame({\n",
    "    \"채소\": vegetables,\n",
    "    \"가격\": prices\n",
    "})\n",
    "\n",
    "df = df.drop_duplicates(['채소'], keep='last')\n",
    "df"
   ]
  },
  {
   "cell_type": "code",
   "execution_count": 5,
   "id": "d5022d0b-c843-45a3-988d-aace116447eb",
   "metadata": {},
   "outputs": [],
   "source": [
    "df1 = pd.DataFrame({'A': ['a10', 'a11', 'a12'], 'B': ['b10', 'b11', 'b12'], 'C':['c10', 'c11','c12']}, index = ['가','나','다'])\n",
    "df2 = pd.DataFrame({'B': ['b23', 'b24', 'b25'], 'C': ['c23', 'c24', 'c25'], 'D':['d23', 'd24','d25']}, index = ['다','라','마'])"
   ]
  },
  {
   "cell_type": "code",
   "execution_count": 13,
   "id": "d82d65f2-3553-4c15-9b23-3c37f6e62c0c",
   "metadata": {},
   "outputs": [
    {
     "name": "stdout",
     "output_type": "stream",
     "text": [
      "pd.concat([df1, df2], axis = 0, join = 'outer')\n",
      "     A    B    C    D\n",
      "가  a10  b10  c10  NaN\n",
      "나  a11  b11  c11  NaN\n",
      "다  a12  b12  c12  NaN\n",
      "다  NaN  b23  c23  d23\n",
      "라  NaN  b24  c24  d24\n",
      "마  NaN  b25  c25  d25\n",
      "pd.concat([df1, df2], axis = 0, join='inner')\n",
      "     B    C\n",
      "가  b10  c10\n",
      "나  b11  c11\n",
      "다  b12  c12\n",
      "다  b23  c23\n",
      "라  b24  c24\n",
      "마  b25  c25\n",
      "pd.concat([df1, df2], axis = 1, join='outer')\n",
      "     A    B    C    B    C    D\n",
      "가  a10  b10  c10  NaN  NaN  NaN\n",
      "나  a11  b11  c11  NaN  NaN  NaN\n",
      "다  a12  b12  c12  b23  c23  d23\n",
      "라  NaN  NaN  NaN  b24  c24  d24\n",
      "마  NaN  NaN  NaN  b25  c25  d25\n",
      "pd.concat([df1, df2], axis = 1, join='inner')\n",
      "     A    B    C    B    C    D\n",
      "다  a12  b12  c12  b23  c23  d23\n"
     ]
    }
   ],
   "source": [
    "print(\"pd.concat([df1, df2], axis = 0, join = 'outer')\")\n",
    "print(pd.concat([df1, df2], axis = 0, join = 'outer'))\n",
    "print(\"pd.concat([df1, df2], axis = 0, join='inner')\")\n",
    "print(pd.concat([df1, df2], axis = 0, join='inner'))\n",
    "print(\"pd.concat([df1, df2], axis = 1, join='outer')\")\n",
    "print(pd.concat([df1, df2], axis = 1, join='outer'))\n",
    "print(\"pd.concat([df1, df2], axis = 1, join='inner')\")\n",
    "print(pd.concat([df1, df2], axis = 1, join='inner'))"
   ]
  },
  {
   "cell_type": "code",
   "execution_count": 17,
   "id": "05991854-b656-4db6-8d4b-b8530df27309",
   "metadata": {},
   "outputs": [
    {
     "name": "stdout",
     "output_type": "stream",
     "text": [
      "left outer\n",
      "     A    B  C_x  C_y    D\n",
      "0  a10  b10  c10  NaN  NaN\n",
      "1  a11  b11  c11  NaN  NaN\n",
      "2  a12  b12  c12  NaN  NaN\n",
      "right outer\n",
      "     A    B  C_x  C_y    D\n",
      "0  NaN  b23  NaN  c23  d23\n",
      "1  NaN  b24  NaN  c24  d24\n",
      "2  NaN  b25  NaN  c25  d25\n",
      "full outer\n",
      "     A    B  C_x  C_y    D\n",
      "0  a10  b10  c10  NaN  NaN\n",
      "1  a11  b11  c11  NaN  NaN\n",
      "2  a12  b12  c12  NaN  NaN\n",
      "3  NaN  b23  NaN  c23  d23\n",
      "4  NaN  b24  NaN  c24  d24\n",
      "5  NaN  b25  NaN  c25  d25\n",
      "inner\n",
      "Empty DataFrame\n",
      "Columns: [A, B, C_x, C_y, D]\n",
      "Index: []\n"
     ]
    }
   ],
   "source": [
    "print('left outer')\n",
    "print(df1.merge(df2, how='left', on='B'))\n",
    "\n",
    "print('right outer')\n",
    "print(df1.merge(df2, how='right', on='B'))\n",
    "\n",
    "print('full outer')\n",
    "print(df1.merge(df2, how='outer', on='B'))\n",
    "\n",
    "print('inner')\n",
    "print(df1.merge(df2, how='inner', on='B'))"
   ]
  },
  {
   "cell_type": "code",
   "execution_count": null,
   "id": "6d52fd25-3efa-431b-bdd0-e638f88b3894",
   "metadata": {},
   "outputs": [],
   "source": []
  }
 ],
 "metadata": {
  "kernelspec": {
   "display_name": "Python 3 (ipykernel)",
   "language": "python",
   "name": "python3"
  },
  "language_info": {
   "codemirror_mode": {
    "name": "ipython",
    "version": 3
   },
   "file_extension": ".py",
   "mimetype": "text/x-python",
   "name": "python",
   "nbconvert_exporter": "python",
   "pygments_lexer": "ipython3",
   "version": "3.8.19"
  }
 },
 "nbformat": 4,
 "nbformat_minor": 5
}
